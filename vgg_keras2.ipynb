{
  "nbformat": 4,
  "nbformat_minor": 0,
  "metadata": {
    "colab": {
      "name": "Untitled14.ipynb",
      "provenance": [],
      "collapsed_sections": [],
      "machine_shape": "hm",
      "authorship_tag": "ABX9TyNzqfIzT0L80iw5yGNyBTMH",
      "include_colab_link": true
    },
    "kernelspec": {
      "name": "python3",
      "display_name": "Python 3"
    },
    "language_info": {
      "name": "python"
    },
    "accelerator": "GPU"
  },
  "cells": [
    {
      "cell_type": "markdown",
      "metadata": {
        "id": "view-in-github",
        "colab_type": "text"
      },
      "source": [
        "<a href=\"https://colab.research.google.com/github/tanakakao/test/blob/main/vgg_keras2.ipynb\" target=\"_parent\"><img src=\"https://colab.research.google.com/assets/colab-badge.svg\" alt=\"Open In Colab\"/></a>"
      ]
    },
    {
      "cell_type": "code",
      "execution_count": 1,
      "metadata": {
        "id": "4xt7A-PKpnjY"
      },
      "outputs": [],
      "source": [
        "import tensorflow.keras as keras\n",
        "from tensorflow.keras.models import Sequential, Model\n",
        "from tensorflow.keras.layers import Input, Conv2D, Activation, MaxPooling2D, Flatten, Dense, Dropout, GlobalAveragePooling2D, BatchNormalization\n",
        "from tensorflow.keras.optimizers import SGD, Adam\n",
        "from tensorflow.keras.callbacks import ReduceLROnPlateau\n",
        "from keras.datasets import cifar10\n",
        "import numpy as np\n",
        "import cv2"
      ]
    },
    {
      "cell_type": "code",
      "source": [
        "# データセットの読み込み\n",
        "(x_train, y_train), (x_test, y_test) = cifar10.load_data()\n",
        "\n",
        "# バッチサイズ、クラス数、エポック数の設定\n",
        "batch_size=64\n",
        "num_classes=10\n",
        "epochs=20\n",
        "\n",
        "# データリサイズ\n",
        "img_rows=224\n",
        "img_cols=224\n",
        "\n",
        "#x_train = np.array([cv2.resize(img, (img_rows,img_cols)) for img in x_train[::10,:,:,:]])\n",
        "#x_test = np.array([cv2.resize(img, (img_rows,img_cols)) for img in x_test[::10,:,:,:]])\n",
        "\n",
        "# データ正規化\n",
        "x_train=x_train.astype('float32')\n",
        "x_train/=255\n",
        "x_test=x_test.astype('float32')\n",
        "x_test/=255\n",
        "\n",
        "# one-hotベクトル化\n",
        "y_train = y_train[::1]\n",
        "y_test = y_test[::1]\n",
        "y_train = keras.utils.to_categorical(y_train, num_classes)\n",
        "y_test = keras.utils.to_categorical(y_test, num_classes)\n",
        "\n",
        "import matplotlib.pyplot as plt\n",
        "\n",
        "fig, axes = plt.subplots(1, 4, figsize=(12,3))\n",
        "[axes[i].imshow(x_train[i]) for i in range(4)];"
      ],
      "metadata": {
        "colab": {
          "base_uri": "https://localhost:8080/",
          "height": 195
        },
        "id": "RyjdAe2dprvs",
        "outputId": "8c86cd39-5cc3-43c6-f5c5-f2db2c471ad4"
      },
      "execution_count": 2,
      "outputs": [
        {
          "output_type": "display_data",
          "data": {
            "text/plain": [
              "<Figure size 864x216 with 4 Axes>"
            ],
            "image/png": "[encoded data removed]"
          },
          "metadata": {
            "needs_background": "light"
          }
        }
      ]
    },
    {
      "cell_type": "code",
      "source": [
        "input_shape=(32, 32, 3)\n",
        "\n",
        "model = Sequential()\n",
        "\n",
        "# 第1層\n",
        "model.add(Conv2D(filters=64, kernel_size=(3,3), strides=(1,1), padding='same', input_shape=input_shape, name='block1_conv1'))\n",
        "model.add(BatchNormalization())\n",
        "model.add(Activation('relu'))\n",
        "model.add(Conv2D(filters=64, kernel_size=(3,3), strides=(1,1), padding='same', name='block1_conv2'))\n",
        "model.add(BatchNormalization())\n",
        "model.add(Activation('relu'))\n",
        "model.add(MaxPooling2D(pool_size=(2,2), strides=(2,2), padding='same', name='block1_pool'))\n",
        "\n",
        "# 第2層\n",
        "model.add(Conv2D(filters=128, kernel_size=(3,3), strides=(1,1), padding='same', name='block2_conv1'))\n",
        "model.add(BatchNormalization())\n",
        "model.add(Activation('relu'))\n",
        "model.add(Conv2D(filters=128, kernel_size=(3,3), strides=(1,1), padding='same', name='block2_conv2'))\n",
        "model.add(BatchNormalization())\n",
        "model.add(Activation('relu'))\n",
        "model.add(MaxPooling2D(pool_size=(2,2), strides=(2,2), padding='same', name='block2_pool'))\n",
        "\n",
        "# 第3層\n",
        "model.add(Conv2D(filters=256, kernel_size=(3,3), strides=(1,1), padding='same', name='block3_conv1'))\n",
        "model.add(BatchNormalization())\n",
        "model.add(Activation('relu'))\n",
        "model.add(Conv2D(filters=256, kernel_size=(3,3), strides=(1,1), padding='same', name='block3_conv2'))\n",
        "model.add(BatchNormalization())\n",
        "model.add(Activation('relu'))\n",
        "model.add(Conv2D(filters=256, kernel_size=(3,3), strides=(1,1), padding='same', name='block3_conv3'))\n",
        "model.add(BatchNormalization())\n",
        "model.add(Activation('relu'))\n",
        "model.add(Conv2D(filters=256, kernel_size=(3,3), strides=(1,1), padding='same', name='block3_conv4'))\n",
        "model.add(BatchNormalization())\n",
        "model.add(Activation('relu'))\n",
        "model.add(MaxPooling2D(pool_size=(2,2), strides=(2,2), padding='same', name='block3_pool'))\n",
        "\n",
        "# 第4層\n",
        "model.add(Conv2D(filters=512, kernel_size=(3,3), strides=(1,1), padding='same', name='block4_conv1'))\n",
        "model.add(BatchNormalization())\n",
        "model.add(Activation('relu'))\n",
        "model.add(Conv2D(filters=512, kernel_size=(3,3), strides=(1,1), padding='same', name='block4_conv2'))\n",
        "model.add(BatchNormalization())\n",
        "model.add(Activation('relu'))\n",
        "model.add(Conv2D(filters=512, kernel_size=(3,3), strides=(1,1), padding='same', name='block4_conv3'))\n",
        "model.add(BatchNormalization())\n",
        "model.add(Activation('relu'))\n",
        "model.add(Conv2D(filters=512, kernel_size=(3,3), strides=(1,1), padding='same', name='block4_conv4'))\n",
        "model.add(BatchNormalization())\n",
        "model.add(Activation('relu'))\n",
        "model.add(MaxPooling2D(pool_size=(2,2), strides=(2,2), padding='same', name='block4_pool'))\n",
        "\n",
        "# 第5層\n",
        "model.add(Conv2D(filters=512, kernel_size=(3,3), strides=(1,1), padding='same', name='block5_conv1'))\n",
        "model.add(BatchNormalization())\n",
        "model.add(Activation('relu'))\n",
        "model.add(Conv2D(filters=512, kernel_size=(3,3), strides=(1,1), padding='same', name='block5_conv2'))\n",
        "model.add(BatchNormalization())\n",
        "model.add(Activation('relu'))\n",
        "model.add(Conv2D(filters=512, kernel_size=(3,3), strides=(1,1), padding='same', name='block5_conv3'))\n",
        "model.add(BatchNormalization())\n",
        "model.add(Activation('relu'))\n",
        "model.add(Conv2D(filters=512, kernel_size=(3,3), strides=(1,1), padding='same', name='block5_conv4'))\n",
        "model.add(BatchNormalization())\n",
        "model.add(Activation('relu'))\n",
        "model.add(MaxPooling2D(pool_size=(2,2), strides=(2,2), padding='same', name='block5_pool'))\n",
        "\n",
        "# 全結合層\n",
        "model.add(Flatten(name='flatten'))\n",
        "model.add(Dense(units=4096, activation='relu', name='fc1'))\n",
        "model.add(Dropout(0.5))\n",
        "model.add(Dense(units=4096, activation='relu', name='fc2'))\n",
        "model.add(Dropout(0.5))\n",
        "\n",
        "# 出力層\n",
        "model.add(Dense(units=num_classes, activation='softmax', name='predictions'))"
      ],
      "metadata": {
        "id": "RDAxlydvp0zK"
      },
      "execution_count": 3,
      "outputs": []
    },
    {
      "cell_type": "code",
      "source": [
        "reduce_lr = ReduceLROnPlateau(\n",
        "    monitor='val_loss', \n",
        "    factor=0.1, \n",
        "    patience=20, \n",
        "    min_lr=0.0001,\n",
        "    verbose=2\n",
        ")\n",
        "\n",
        "sgd = SGD(lr=0.01)\n",
        "adam=Adam(lr=0.01)\n",
        "\n",
        "model.compile(loss=['categorical_crossentropy'], optimizer=Adam(), metrics=['accuracy'])"
      ],
      "metadata": {
        "colab": {
          "base_uri": "https://localhost:8080/"
        },
        "id": "t5gjflVHqAeg",
        "outputId": "92dcb43a-4f7e-4059-ec71-c431bee70aab"
      },
      "execution_count": 4,
      "outputs": [
        {
          "output_type": "stream",
          "name": "stderr",
          "text": [
            "/usr/local/lib/python3.7/dist-packages/keras/optimizer_v2/gradient_descent.py:102: UserWarning: The `lr` argument is deprecated, use `learning_rate` instead.\n",
            "  super(SGD, self).__init__(name, **kwargs)\n",
            "/usr/local/lib/python3.7/dist-packages/keras/optimizer_v2/adam.py:105: UserWarning: The `lr` argument is deprecated, use `learning_rate` instead.\n",
            "  super(Adam, self).__init__(name, **kwargs)\n"
          ]
        }
      ]
    },
    {
      "cell_type": "code",
      "source": [
        "history=model.fit(x_train, y_train, batch_size=batch_size, epochs=epochs, validation_data=(x_test, y_test))"
      ],
      "metadata": {
        "colab": {
          "base_uri": "https://localhost:8080/"
        },
        "id": "nmvcTRQLqBXO",
        "outputId": "b10b86f3-0491-4576-dd9c-23ab10d4970d"
      },
      "execution_count": 5,
      "outputs": [
        {
          "output_type": "stream",
          "name": "stdout",
          "text": [
            "Epoch 1/20\n",
            "782/782 [==============================] - 33s 38ms/step - loss: 2.0091 - accuracy: 0.2002 - val_loss: 2.1070 - val_accuracy: 0.1899\n",
            "Epoch 2/20\n",
            "782/782 [==============================] - 29s 37ms/step - loss: 1.6780 - accuracy: 0.3213 - val_loss: 1.7291 - val_accuracy: 0.3172\n",
            "Epoch 3/20\n",
            "782/782 [==============================] - 29s 37ms/step - loss: 1.5158 - accuracy: 0.3913 - val_loss: 1.5648 - val_accuracy: 0.4205\n",
            "Epoch 4/20\n",
            "782/782 [==============================] - 29s 37ms/step - loss: 1.3639 - accuracy: 0.4757 - val_loss: 1.4234 - val_accuracy: 0.4529\n",
            "Epoch 5/20\n",
            "782/782 [==============================] - 29s 37ms/step - loss: 1.1547 - accuracy: 0.5802 - val_loss: 1.4450 - val_accuracy: 0.4854\n",
            "Epoch 6/20\n",
            "782/782 [==============================] - 29s 37ms/step - loss: 0.9415 - accuracy: 0.6720 - val_loss: 1.2952 - val_accuracy: 0.5660\n",
            "Epoch 7/20\n",
            "782/782 [==============================] - 29s 37ms/step - loss: 0.8193 - accuracy: 0.7220 - val_loss: 0.9909 - val_accuracy: 0.6688\n",
            "Epoch 8/20\n",
            "782/782 [==============================] - 29s 37ms/step - loss: 0.7146 - accuracy: 0.7638 - val_loss: 0.8740 - val_accuracy: 0.6979\n",
            "Epoch 9/20\n",
            "782/782 [==============================] - 29s 37ms/step - loss: 0.6249 - accuracy: 0.7952 - val_loss: 0.7810 - val_accuracy: 0.7386\n",
            "Epoch 10/20\n",
            "782/782 [==============================] - 29s 37ms/step - loss: 0.5513 - accuracy: 0.8245 - val_loss: 1.4540 - val_accuracy: 0.5994\n",
            "Epoch 11/20\n",
            "782/782 [==============================] - 29s 37ms/step - loss: 0.4804 - accuracy: 0.8490 - val_loss: 0.7112 - val_accuracy: 0.7817\n",
            "Epoch 12/20\n",
            "782/782 [==============================] - 29s 37ms/step - loss: 0.4396 - accuracy: 0.8628 - val_loss: 0.6004 - val_accuracy: 0.8110\n",
            "Epoch 13/20\n",
            "782/782 [==============================] - 29s 37ms/step - loss: 0.3777 - accuracy: 0.8818 - val_loss: 0.7475 - val_accuracy: 0.7766\n",
            "Epoch 14/20\n",
            "782/782 [==============================] - 29s 37ms/step - loss: 0.3435 - accuracy: 0.8931 - val_loss: 0.8040 - val_accuracy: 0.7763\n",
            "Epoch 15/20\n",
            "782/782 [==============================] - 29s 37ms/step - loss: 0.3134 - accuracy: 0.9044 - val_loss: 1.0912 - val_accuracy: 0.7345\n",
            "Epoch 16/20\n",
            "782/782 [==============================] - 29s 37ms/step - loss: 0.2724 - accuracy: 0.9157 - val_loss: 0.6093 - val_accuracy: 0.8247\n",
            "Epoch 17/20\n",
            "782/782 [==============================] - 29s 37ms/step - loss: 0.2443 - accuracy: 0.9251 - val_loss: 0.7278 - val_accuracy: 0.8168\n",
            "Epoch 18/20\n",
            "782/782 [==============================] - 29s 37ms/step - loss: 0.2326 - accuracy: 0.9308 - val_loss: 0.7065 - val_accuracy: 0.8191\n",
            "Epoch 19/20\n",
            "782/782 [==============================] - 29s 37ms/step - loss: 0.2107 - accuracy: 0.9379 - val_loss: 0.6475 - val_accuracy: 0.8323\n",
            "Epoch 20/20\n",
            "782/782 [==============================] - 29s 37ms/step - loss: 0.1714 - accuracy: 0.9489 - val_loss: 0.7797 - val_accuracy: 0.7949\n"
          ]
        }
      ]
    }
  ]
}