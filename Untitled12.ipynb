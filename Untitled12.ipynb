{
  "nbformat": 4,
  "nbformat_minor": 0,
  "metadata": {
    "colab": {
      "name": "Untitled12.ipynb",
      "provenance": [],
      "authorship_tag": "ABX9TyNHf+/DfSQTpD7sUgBmg8LE",
      "include_colab_link": true
    },
    "kernelspec": {
      "name": "python3",
      "display_name": "Python 3"
    },
    "language_info": {
      "name": "python"
    },
    "accelerator": "GPU"
  },
  "cells": [
    {
      "cell_type": "markdown",
      "metadata": {
        "id": "view-in-github",
        "colab_type": "text"
      },
      "source": [
        "<a href=\"https://colab.research.google.com/github/tanakakao/test/blob/main/Untitled12.ipynb\" target=\"_parent\"><img src=\"https://colab.research.google.com/assets/colab-badge.svg\" alt=\"Open In Colab\"/></a>"
      ]
    },
    {
      "cell_type": "code",
      "metadata": {
        "id": "HtF3Vcxuk9j5"
      },
      "source": [
        "import glob\n",
        "import os.path as osp\n",
        "import random\n",
        "import numpy as np\n",
        "import json\n",
        "from PIL import Image\n",
        "from tqdm import tqdm\n",
        "import matplotlib.pyplot as plt\n",
        "from sklearn.model_selection import train_test_split\n",
        "import os\n",
        "\n",
        "import torch\n",
        "import torch.nn as nn\n",
        "import torch.optim as optim\n",
        "import torch.utils.data as data\n",
        "import torchvision\n",
        "from torchvision import models, transforms\n",
        "\n",
        "torch.manual_seed(1234)\n",
        "np.random.seed(1234)\n",
        "random.seed(1234)"
      ],
      "execution_count": 2,
      "outputs": []
    },
    {
      "cell_type": "code",
      "metadata": {
        "colab": {
          "base_uri": "https://localhost:8080/"
        },
        "id": "YVeVwWMDlE48",
        "outputId": "db75d601-d5a2-47d1-f4e9-9ead58fe9fef"
      },
      "source": [
        "from google.colab import drive\n",
        "drive.mount('/content/drive')"
      ],
      "execution_count": 1,
      "outputs": [
        {
          "output_type": "stream",
          "text": [
            "Mounted at /content/drive\n"
          ],
          "name": "stdout"
        }
      ]
    },
    {
      "cell_type": "code",
      "metadata": {
        "id": "Kb-zXt8wlE8Q"
      },
      "source": [
        "class ImageTransform():\n",
        "    \"\"\"\n",
        "    画像の前処理クラス。訓練時、検証時で異なる動作をする。\n",
        "    画像のサイズをリサイズし、色を標準化する。\n",
        "    訓練時はRandomResizeCropとRandomHorizontalFlipでデータオーギュメンテーションする。\n",
        "    \n",
        "    Attributes\n",
        "    ----------\n",
        "    resize : int\n",
        "        リサイズ先の画像の大きさ\n",
        "    mean : (R, G, B)\n",
        "        各色チャネルの平均値\n",
        "    std : (R, G, B)\n",
        "        各色チャネルの標準偏差\n",
        "    \"\"\"\n",
        "    \n",
        "    def __init__(self, resize, mean, std):\n",
        "        self.data_transform = {\n",
        "            'train': transforms.Compose([\n",
        "                transforms.Resize(resize),\n",
        "                transforms.RandomHorizontalFlip(),\n",
        "                transforms.ToTensor()\n",
        "            ]),\n",
        "            'val': transforms.Compose([\n",
        "                transforms.Resize(resize),\n",
        "                transforms.ToTensor()\n",
        "            ])\n",
        "        }\n",
        "    \n",
        "    def __call__(self, img, phase='train'):\n",
        "        \"\"\"\n",
        "        Parameters\n",
        "        ----------\n",
        "        phase : 'train' or 'val'\n",
        "            前処理モードを指定\n",
        "        \"\"\"\n",
        "        return self.data_transform[phase](img)"
      ],
      "execution_count": 3,
      "outputs": []
    },
    {
      "cell_type": "code",
      "metadata": {
        "colab": {
          "base_uri": "https://localhost:8080/"
        },
        "id": "qzfTGagollkH",
        "outputId": "a8b4897d-95f5-4521-e6c0-dd1baeceb61d"
      },
      "source": [
        "rootpath = \"/content/drive/MyDrive/image_demo2/\"\n",
        "classes = os.listdir(rootpath)\n",
        "\n",
        "size = 224\n",
        "mean = (0.485, 0.456, 0.406)\n",
        "std = (0.229, 0.224, 0.225)\n",
        "\n",
        "path_list = []\n",
        "label_list = []\n",
        "\n",
        "for idx, cls in enumerate(classes):\n",
        "    target_path = osp.join(rootpath+cls+'/*.png')\n",
        "    print(target_path)\n",
        "    for path in glob.glob(target_path):\n",
        "        path_list.append(path)\n",
        "        label_list.append(idx)\n",
        "\n",
        "train_list, val_list, train_label, val_label = train_test_split(path_list, label_list, test_size=0.2, random_state=123)"
      ],
      "execution_count": 16,
      "outputs": [
        {
          "output_type": "stream",
          "text": [
            "/content/drive/MyDrive/image_demo2/ok/*.png\n",
            "/content/drive/MyDrive/image_demo2/ng/*.png\n"
          ],
          "name": "stdout"
        }
      ]
    },
    {
      "cell_type": "code",
      "metadata": {
        "colab": {
          "base_uri": "https://localhost:8080/",
          "height": 305
        },
        "id": "DNnnDmOKllm1",
        "outputId": "d833b1ae-79d7-4338-fc24-fac2a782b782"
      },
      "source": [
        "class HymenopteraDataset(data.Dataset):\n",
        "    \"\"\"\n",
        "    アリとハチの画像のDatasetクラス。Pytorchのdatasetクラスを継承。\n",
        "    \n",
        "    Attributes\n",
        "    ----------\n",
        "    file_list : リスト\n",
        "        画像のパスを格納したリスト\n",
        "    transform : object\n",
        "        前処理クラスのインスタンス\n",
        "    phase : 'train' or 'val'\n",
        "        学習か訓練かを設定する\n",
        "    \"\"\"\n",
        "    \n",
        "    def __init__(self, file_list, transform=None, phase='train'):\n",
        "        self.file_list = file_list\n",
        "        self.transform = transform\n",
        "        self.phase = phase\n",
        "    \n",
        "    def __len__(self):\n",
        "        \"\"\"画像の枚数を返す\"\"\"\n",
        "        return len(self.file_list)\n",
        "    \n",
        "    def __getitem__(self, index):\n",
        "        \"\"\"\n",
        "        前処理をした画像のTensor形式のデータとラベルを取得\n",
        "        \"\"\"\n",
        "        \n",
        "        img_path = self.file_list[index]\n",
        "        img = Image.open(img_path)\n",
        "        img = img.convert('RGB')\n",
        "        \n",
        "        img_transformed = self.transform(img, self.phase)\n",
        "        \n",
        "        if self.phase == 'train':\n",
        "            label = train_label[index]\n",
        "        else:\n",
        "            label = val_label[index]\n",
        "        \n",
        "        return img_transformed, label\n",
        "\n",
        "train_dataset = HymenopteraDataset(file_list=train_list, transform=ImageTransform(size, mean, std), phase='train')\n",
        "val_dataset = HymenopteraDataset(file_list=val_list, transform=ImageTransform(size, mean, std), phase='val')\n",
        "\n",
        "index = 0\n",
        "print(train_dataset.__getitem__(index)[0].size())\n",
        "print(train_dataset.__getitem__(index)[1])\n",
        "\n",
        "img_transformed = train_dataset.__getitem__(index)[0].numpy().transpose((1, 2, 0))\n",
        "img_transformed = np.clip(img_transformed, 0, 1)\n",
        "plt.imshow(img_transformed)\n",
        "plt.show()"
      ],
      "execution_count": 17,
      "outputs": [
        {
          "output_type": "stream",
          "text": [
            "torch.Size([3, 224, 224])\n",
            "1\n"
          ],
          "name": "stdout"
        },
        {
          "output_type": "display_data",
          "data": {
            "image/png": "[encoded data removed]",
            "text/plain": [
              "<Figure size 432x288 with 1 Axes>"
            ]
          },
          "metadata": {
            "tags": [],
            "needs_background": "light"
          }
        }
      ]
    },
    {
      "cell_type": "code",
      "metadata": {
        "colab": {
          "base_uri": "https://localhost:8080/"
        },
        "id": "L_1lW1YDllo_",
        "outputId": "abaa567f-764c-4235-ff0a-cdb6928fd3b8"
      },
      "source": [
        "batch_size = 32\n",
        "\n",
        "train_dataloader = torch.utils.data.DataLoader(train_dataset, batch_size=batch_size, shuffle=True)\n",
        "val_dataloader = torch.utils.data.DataLoader(val_dataset, batch_size=batch_size, shuffle=False)\n",
        "\n",
        "dataloaders_dict = {\"train\": train_dataloader, \"val\": val_dataloader}\n",
        "\n",
        "batch_iterator = iter(dataloaders_dict[\"train\"])\n",
        "inputs, labels = next(\n",
        "    batch_iterator)\n",
        "print(inputs.size())\n",
        "print(labels)"
      ],
      "execution_count": 18,
      "outputs": [
        {
          "output_type": "stream",
          "text": [
            "torch.Size([32, 3, 224, 224])\n",
            "tensor([0, 0, 1, 1, 1, 0, 0, 0, 0, 1, 1, 0, 1, 0, 0, 1, 1, 0, 1, 0, 0, 0, 1, 0,\n",
            "        0, 1, 1, 0, 1, 1, 1, 1])\n"
          ],
          "name": "stdout"
        }
      ]
    },
    {
      "cell_type": "code",
      "metadata": {
        "colab": {
          "base_uri": "https://localhost:8080/"
        },
        "id": "wNmHpRG8llrl",
        "outputId": "95edb9be-4a93-4536-f3ba-be8505ced2d2"
      },
      "source": [
        "use_pretrained = True # 学習済みのパラメータを使用\n",
        "net = models.vgg16(pretrained=use_pretrained)\n",
        "\n",
        "net.classifier[6] = nn.Linear(in_features=4096, out_features=2)\n",
        "\n",
        "net.train()\n",
        "\n",
        "print('ネットワーク設定完了:学習済みモデルも重みをロードし、訓練モードに設定しました')"
      ],
      "execution_count": 94,
      "outputs": [
        {
          "output_type": "stream",
          "text": [
            "ネットワーク設定完了:学習済みモデルも重みをロードし、訓練モードに設定しました\n"
          ],
          "name": "stdout"
        }
      ]
    },
    {
      "cell_type": "code",
      "metadata": {
        "id": "DANAp4VNlluT"
      },
      "source": [
        "criterion = nn.CrossEntropyLoss()"
      ],
      "execution_count": 95,
      "outputs": []
    },
    {
      "cell_type": "code",
      "metadata": {
        "colab": {
          "base_uri": "https://localhost:8080/"
        },
        "id": "84oHZc_dllx0",
        "outputId": "46abf73b-b87b-453e-8a41-fc4a69786f8d"
      },
      "source": [
        "params_to_update = []\n",
        "\n",
        "update_param_names = [\"classifier.6.weight\", \"classifier.6.bias\"]\n",
        "\n",
        "for name, param in net.named_parameters():\n",
        "    if name in update_param_names:\n",
        "        param.requires_grad = True\n",
        "        params_to_update.append(param)\n",
        "        print(name)\n",
        "    else:\n",
        "        param.requires_grad = False\n",
        "\n",
        "print(\"------------\")\n",
        "print(params_to_update)"
      ],
      "execution_count": 96,
      "outputs": [
        {
          "output_type": "stream",
          "text": [
            "classifier.6.weight\n",
            "classifier.6.bias\n",
            "------------\n",
            "[Parameter containing:\n",
            "tensor([[-0.0082,  0.0148, -0.0051,  ...,  0.0152,  0.0066,  0.0052],\n",
            "        [-0.0138,  0.0125, -0.0091,  ...,  0.0101, -0.0119, -0.0083]],\n",
            "       requires_grad=True), Parameter containing:\n",
            "tensor([0.0050, 0.0146], requires_grad=True)]\n"
          ],
          "name": "stdout"
        }
      ]
    },
    {
      "cell_type": "code",
      "metadata": {
        "id": "ud-LAx4wmXEB"
      },
      "source": [
        "optimizer = optim.SGD(params=net.parameters(), lr=0.001, momentum=0.9)"
      ],
      "execution_count": 97,
      "outputs": []
    },
    {
      "cell_type": "code",
      "metadata": {
        "id": "FKPN0maemXHL"
      },
      "source": [
        "def train_model(net, dataloaders_dict, criterion, optimizer, num_epochs, es):\n",
        "    device = torch.device(\"cuda:0\" if torch.cuda.is_available() else \"cpu\")\n",
        "    print(\"使用デバイス:\", device)\n",
        "    \n",
        "    net.to(device)\n",
        "    \n",
        "    torch.backends.cudnn.benchmark = True\n",
        "    \n",
        "    hist = {'train_loss': [], 'train_accuracy': [],\n",
        "            'val_loss': [], 'val_accuracy': []}\n",
        "\n",
        "    for epoch in range(num_epochs):\n",
        "        print('Epoch {}/{}'.format(epoch+1, num_epochs))\n",
        "        print('-----------')\n",
        "        \n",
        "        for phase in ['train', 'val']:\n",
        "            if phase == 'train':\n",
        "                net.train()\n",
        "            else:\n",
        "                net.eval()\n",
        "            \n",
        "            epoch_loss = 0.0\n",
        "            epoch_corrects = 0\n",
        "            \n",
        "            if (epoch == 0) and (phase == 'train'):\n",
        "                continue\n",
        "            \n",
        "            for inputs, labels in tqdm(dataloaders_dict[phase]):\n",
        "                inputs = inputs.to(device)\n",
        "                labels = labels.to(device)\n",
        "\n",
        "                optimizer.zero_grad()\n",
        "                \n",
        "                with torch.set_grad_enabled(phase == 'train'):\n",
        "                    outputs = net(inputs)\n",
        "                    loss = criterion(outputs, labels)\n",
        "                    _, preds = torch.max(outputs, 1)\n",
        "                    \n",
        "                    if phase == 'train':\n",
        "                        loss.backward()\n",
        "                        optimizer.step()\n",
        "                    \n",
        "                    epoch_loss += loss.item() * inputs.size(0)\n",
        "                    epoch_corrects += torch.sum(preds == labels.data)\n",
        "            \n",
        "            epoch_loss = epoch_loss / len(dataloaders_dict[phase].dataset)\n",
        "            epoch_acc = epoch_corrects.double() / len(dataloaders_dict[phase].dataset)\n",
        "\n",
        "            if (epoch > 0):\n",
        "              hist[phase+'_loss'].append(epoch_loss)\n",
        "              hist[phase+'_accuracy'].append(epoch_acc.item())\n",
        "            \n",
        "            print('{} Loss: {:.4f} Acc: {:.4f}'.format(phase, epoch_loss, epoch_acc))\n",
        "        if es(epoch_loss):\n",
        "          break\n",
        "    return hist"
      ],
      "execution_count": 98,
      "outputs": []
    },
    {
      "cell_type": "code",
      "metadata": {
        "id": "qxlS5LPxruUq"
      },
      "source": [
        "class EarlyStopping:\n",
        "    '''\n",
        "    早期終了 (early stopping)\n",
        "    '''\n",
        "    def __init__(self, patience=0, verbose=0):\n",
        "        self._step = 0\n",
        "        self._loss = float('inf')\n",
        "        self.patience = patience\n",
        "        self.verbose = verbose\n",
        "\n",
        "    def __call__(self, loss):\n",
        "        if self._loss < loss:\n",
        "            self._step += 1\n",
        "            if self._step > self.patience:\n",
        "                if self.verbose:\n",
        "                    print('early stopping')\n",
        "                return True\n",
        "        else:\n",
        "            self._step = 0\n",
        "            self._loss = loss\n",
        "\n",
        "        return False"
      ],
      "execution_count": 88,
      "outputs": []
    },
    {
      "cell_type": "markdown",
      "metadata": {
        "id": "JSBPH4IMnDyL"
      },
      "source": [
        ""
      ]
    },
    {
      "cell_type": "code",
      "metadata": {
        "colab": {
          "base_uri": "https://localhost:8080/"
        },
        "id": "N_JVmMfGmXJP",
        "outputId": "ad31c3aa-e1de-44b4-b62f-7f1dd362f2a1"
      },
      "source": [
        "num_epochs=30\n",
        "es = EarlyStopping(patience=3, verbose=1)\n",
        "history = train_model(net, dataloaders_dict, criterion, optimizer, num_epochs=num_epochs, es=es)"
      ],
      "execution_count": 99,
      "outputs": [
        {
          "output_type": "stream",
          "text": [
            "\n",
            "\n",
            "  0%|          | 0/2 [00:00<?, ?it/s]\u001b[A\u001b[A"
          ],
          "name": "stderr"
        },
        {
          "output_type": "stream",
          "text": [
            "使用デバイス: cuda:0\n",
            "Epoch 1/30\n",
            "-----------\n"
          ],
          "name": "stdout"
        },
        {
          "output_type": "stream",
          "text": [
            "\n",
            "\n",
            " 50%|█████     | 1/2 [00:00<00:00,  2.56it/s]\u001b[A\u001b[A\n",
            "\n",
            "100%|██████████| 2/2 [00:00<00:00,  2.99it/s]\n",
            "\n",
            "\n",
            "  0%|          | 0/7 [00:00<?, ?it/s]\u001b[A\u001b[A"
          ],
          "name": "stderr"
        },
        {
          "output_type": "stream",
          "text": [
            "val Loss: 0.7194 Acc: 0.5000\n",
            "Epoch 2/30\n",
            "-----------\n"
          ],
          "name": "stdout"
        },
        {
          "output_type": "stream",
          "text": [
            "\n",
            "\n",
            " 14%|█▍        | 1/7 [00:00<00:02,  2.95it/s]\u001b[A\u001b[A\n",
            "\n",
            " 29%|██▊       | 2/7 [00:00<00:01,  2.95it/s]\u001b[A\u001b[A\n",
            "\n",
            " 43%|████▎     | 3/7 [00:01<00:01,  2.95it/s]\u001b[A\u001b[A\n",
            "\n",
            " 57%|█████▋    | 4/7 [00:01<00:01,  2.93it/s]\u001b[A\u001b[A\n",
            "\n",
            " 71%|███████▏  | 5/7 [00:01<00:00,  2.93it/s]\u001b[A\u001b[A\n",
            "\n",
            " 86%|████████▌ | 6/7 [00:02<00:00,  2.94it/s]\u001b[A\u001b[A\n",
            "\n",
            "100%|██████████| 7/7 [00:02<00:00,  2.92it/s]\n",
            "\n",
            "\n",
            "  0%|          | 0/2 [00:00<?, ?it/s]\u001b[A\u001b[A"
          ],
          "name": "stderr"
        },
        {
          "output_type": "stream",
          "text": [
            "train Loss: 0.7080 Acc: 0.5223\n"
          ],
          "name": "stdout"
        },
        {
          "output_type": "stream",
          "text": [
            "\n",
            "\n",
            " 50%|█████     | 1/2 [00:00<00:00,  3.01it/s]\u001b[A\u001b[A\n",
            "\n",
            "100%|██████████| 2/2 [00:00<00:00,  3.28it/s]\n",
            "\n",
            "\n",
            "  0%|          | 0/7 [00:00<?, ?it/s]\u001b[A\u001b[A"
          ],
          "name": "stderr"
        },
        {
          "output_type": "stream",
          "text": [
            "val Loss: 0.6932 Acc: 0.5000\n",
            "Epoch 3/30\n",
            "-----------\n"
          ],
          "name": "stdout"
        },
        {
          "output_type": "stream",
          "text": [
            "\n",
            "\n",
            " 14%|█▍        | 1/7 [00:00<00:02,  2.91it/s]\u001b[A\u001b[A\n",
            "\n",
            " 29%|██▊       | 2/7 [00:00<00:01,  2.91it/s]\u001b[A\u001b[A\n",
            "\n",
            " 43%|████▎     | 3/7 [00:01<00:01,  2.91it/s]\u001b[A\u001b[A\n",
            "\n",
            " 57%|█████▋    | 4/7 [00:01<00:01,  2.90it/s]\u001b[A\u001b[A\n",
            "\n",
            " 71%|███████▏  | 5/7 [00:01<00:00,  2.91it/s]\u001b[A\u001b[A\n",
            "\n",
            " 86%|████████▌ | 6/7 [00:02<00:00,  2.93it/s]\u001b[A\u001b[A\n",
            "\n",
            "100%|██████████| 7/7 [00:02<00:00,  2.90it/s]\n",
            "\n",
            "\n",
            "  0%|          | 0/2 [00:00<?, ?it/s]\u001b[A\u001b[A"
          ],
          "name": "stderr"
        },
        {
          "output_type": "stream",
          "text": [
            "train Loss: 0.6937 Acc: 0.5045\n"
          ],
          "name": "stdout"
        },
        {
          "output_type": "stream",
          "text": [
            "\n",
            "\n",
            " 50%|█████     | 1/2 [00:00<00:00,  3.08it/s]\u001b[A\u001b[A\n",
            "\n",
            "100%|██████████| 2/2 [00:00<00:00,  3.32it/s]\n",
            "\n",
            "\n",
            "  0%|          | 0/7 [00:00<?, ?it/s]\u001b[A\u001b[A"
          ],
          "name": "stderr"
        },
        {
          "output_type": "stream",
          "text": [
            "val Loss: 0.6513 Acc: 0.6429\n",
            "Epoch 4/30\n",
            "-----------\n"
          ],
          "name": "stdout"
        },
        {
          "output_type": "stream",
          "text": [
            "\n",
            "\n",
            " 14%|█▍        | 1/7 [00:00<00:02,  2.78it/s]\u001b[A\u001b[A\n",
            "\n",
            " 29%|██▊       | 2/7 [00:00<00:01,  2.82it/s]\u001b[A\u001b[A\n",
            "\n",
            " 43%|████▎     | 3/7 [00:01<00:01,  2.85it/s]\u001b[A\u001b[A\n",
            "\n",
            " 57%|█████▋    | 4/7 [00:01<00:01,  2.86it/s]\u001b[A\u001b[A\n",
            "\n",
            " 71%|███████▏  | 5/7 [00:01<00:00,  2.89it/s]\u001b[A\u001b[A\n",
            "\n",
            " 86%|████████▌ | 6/7 [00:02<00:00,  2.90it/s]\u001b[A\u001b[A\n",
            "\n",
            "100%|██████████| 7/7 [00:02<00:00,  2.89it/s]\n",
            "\n",
            "\n",
            "  0%|          | 0/2 [00:00<?, ?it/s]\u001b[A\u001b[A"
          ],
          "name": "stderr"
        },
        {
          "output_type": "stream",
          "text": [
            "train Loss: 0.6580 Acc: 0.5893\n"
          ],
          "name": "stdout"
        },
        {
          "output_type": "stream",
          "text": [
            "\n",
            "\n",
            " 50%|█████     | 1/2 [00:00<00:00,  2.94it/s]\u001b[A\u001b[A\n",
            "\n",
            "100%|██████████| 2/2 [00:00<00:00,  3.19it/s]\n",
            "\n",
            "\n",
            "  0%|          | 0/7 [00:00<?, ?it/s]\u001b[A\u001b[A"
          ],
          "name": "stderr"
        },
        {
          "output_type": "stream",
          "text": [
            "val Loss: 0.6196 Acc: 0.7679\n",
            "Epoch 5/30\n",
            "-----------\n"
          ],
          "name": "stdout"
        },
        {
          "output_type": "stream",
          "text": [
            "\n",
            "\n",
            " 14%|█▍        | 1/7 [00:00<00:02,  2.91it/s]\u001b[A\u001b[A\n",
            "\n",
            " 29%|██▊       | 2/7 [00:00<00:01,  2.92it/s]\u001b[A\u001b[A\n",
            "\n",
            " 43%|████▎     | 3/7 [00:01<00:01,  2.93it/s]\u001b[A\u001b[A\n",
            "\n",
            " 57%|█████▋    | 4/7 [00:01<00:01,  2.94it/s]\u001b[A\u001b[A\n",
            "\n",
            " 71%|███████▏  | 5/7 [00:01<00:00,  2.91it/s]\u001b[A\u001b[A\n",
            "\n",
            " 86%|████████▌ | 6/7 [00:02<00:00,  2.93it/s]\u001b[A\u001b[A\n",
            "\n",
            "100%|██████████| 7/7 [00:02<00:00,  2.91it/s]\n",
            "\n",
            "\n",
            "  0%|          | 0/2 [00:00<?, ?it/s]\u001b[A\u001b[A"
          ],
          "name": "stderr"
        },
        {
          "output_type": "stream",
          "text": [
            "train Loss: 0.6187 Acc: 0.6473\n"
          ],
          "name": "stdout"
        },
        {
          "output_type": "stream",
          "text": [
            "\n",
            "\n",
            " 50%|█████     | 1/2 [00:00<00:00,  2.98it/s]\u001b[A\u001b[A\n",
            "\n",
            "100%|██████████| 2/2 [00:00<00:00,  3.26it/s]\n",
            "\n",
            "\n",
            "  0%|          | 0/7 [00:00<?, ?it/s]\u001b[A\u001b[A"
          ],
          "name": "stderr"
        },
        {
          "output_type": "stream",
          "text": [
            "val Loss: 0.6022 Acc: 0.7143\n",
            "Epoch 6/30\n",
            "-----------\n"
          ],
          "name": "stdout"
        },
        {
          "output_type": "stream",
          "text": [
            "\n",
            "\n",
            " 14%|█▍        | 1/7 [00:00<00:02,  2.82it/s]\u001b[A\u001b[A\n",
            "\n",
            " 29%|██▊       | 2/7 [00:00<00:01,  2.85it/s]\u001b[A\u001b[A\n",
            "\n",
            " 43%|████▎     | 3/7 [00:01<00:01,  2.87it/s]\u001b[A\u001b[A\n",
            "\n",
            " 57%|█████▋    | 4/7 [00:01<00:01,  2.87it/s]\u001b[A\u001b[A\n",
            "\n",
            " 71%|███████▏  | 5/7 [00:01<00:00,  2.86it/s]\u001b[A\u001b[A\n",
            "\n",
            " 86%|████████▌ | 6/7 [00:02<00:00,  2.90it/s]\u001b[A\u001b[A\n",
            "\n",
            "100%|██████████| 7/7 [00:02<00:00,  2.88it/s]\n",
            "\n",
            "\n",
            "  0%|          | 0/2 [00:00<?, ?it/s]\u001b[A\u001b[A"
          ],
          "name": "stderr"
        },
        {
          "output_type": "stream",
          "text": [
            "train Loss: 0.6217 Acc: 0.6205\n"
          ],
          "name": "stdout"
        },
        {
          "output_type": "stream",
          "text": [
            "\n",
            "\n",
            " 50%|█████     | 1/2 [00:00<00:00,  2.95it/s]\u001b[A\u001b[A\n",
            "\n",
            "100%|██████████| 2/2 [00:00<00:00,  3.26it/s]\n",
            "\n",
            "\n",
            "  0%|          | 0/7 [00:00<?, ?it/s]\u001b[A\u001b[A"
          ],
          "name": "stderr"
        },
        {
          "output_type": "stream",
          "text": [
            "val Loss: 0.5781 Acc: 0.8036\n",
            "Epoch 7/30\n",
            "-----------\n"
          ],
          "name": "stdout"
        },
        {
          "output_type": "stream",
          "text": [
            "\n",
            "\n",
            " 14%|█▍        | 1/7 [00:00<00:02,  2.89it/s]\u001b[A\u001b[A\n",
            "\n",
            " 29%|██▊       | 2/7 [00:00<00:01,  2.92it/s]\u001b[A\u001b[A\n",
            "\n",
            " 43%|████▎     | 3/7 [00:01<00:01,  2.92it/s]\u001b[A\u001b[A\n",
            "\n",
            " 57%|█████▋    | 4/7 [00:01<00:01,  2.90it/s]\u001b[A\u001b[A\n",
            "\n",
            " 71%|███████▏  | 5/7 [00:01<00:00,  2.91it/s]\u001b[A\u001b[A\n",
            "\n",
            " 86%|████████▌ | 6/7 [00:02<00:00,  2.92it/s]\u001b[A\u001b[A\n",
            "\n",
            "100%|██████████| 7/7 [00:02<00:00,  2.91it/s]\n",
            "\n",
            "\n",
            "  0%|          | 0/2 [00:00<?, ?it/s]\u001b[A\u001b[A"
          ],
          "name": "stderr"
        },
        {
          "output_type": "stream",
          "text": [
            "train Loss: 0.6142 Acc: 0.6518\n"
          ],
          "name": "stdout"
        },
        {
          "output_type": "stream",
          "text": [
            "\n",
            "\n",
            " 50%|█████     | 1/2 [00:00<00:00,  2.99it/s]\u001b[A\u001b[A\n",
            "\n",
            "100%|██████████| 2/2 [00:00<00:00,  3.26it/s]\n",
            "\n",
            "\n",
            "  0%|          | 0/7 [00:00<?, ?it/s]\u001b[A\u001b[A"
          ],
          "name": "stderr"
        },
        {
          "output_type": "stream",
          "text": [
            "val Loss: 0.5810 Acc: 0.6786\n",
            "Epoch 8/30\n",
            "-----------\n"
          ],
          "name": "stdout"
        },
        {
          "output_type": "stream",
          "text": [
            "\n",
            "\n",
            " 14%|█▍        | 1/7 [00:00<00:02,  2.91it/s]\u001b[A\u001b[A\n",
            "\n",
            " 29%|██▊       | 2/7 [00:00<00:01,  2.91it/s]\u001b[A\u001b[A\n",
            "\n",
            " 43%|████▎     | 3/7 [00:01<00:01,  2.91it/s]\u001b[A\u001b[A\n",
            "\n",
            " 57%|█████▋    | 4/7 [00:01<00:01,  2.91it/s]\u001b[A\u001b[A\n",
            "\n",
            " 71%|███████▏  | 5/7 [00:01<00:00,  2.90it/s]\u001b[A\u001b[A\n",
            "\n",
            " 86%|████████▌ | 6/7 [00:02<00:00,  2.93it/s]\u001b[A\u001b[A\n",
            "\n",
            "100%|██████████| 7/7 [00:02<00:00,  2.91it/s]\n",
            "\n",
            "\n",
            "  0%|          | 0/2 [00:00<?, ?it/s]\u001b[A\u001b[A"
          ],
          "name": "stderr"
        },
        {
          "output_type": "stream",
          "text": [
            "train Loss: 0.5513 Acc: 0.7589\n"
          ],
          "name": "stdout"
        },
        {
          "output_type": "stream",
          "text": [
            "\n",
            "\n",
            " 50%|█████     | 1/2 [00:00<00:00,  2.96it/s]\u001b[A\u001b[A\n",
            "\n",
            "100%|██████████| 2/2 [00:00<00:00,  3.26it/s]\n",
            "\n",
            "\n",
            "  0%|          | 0/7 [00:00<?, ?it/s]\u001b[A\u001b[A"
          ],
          "name": "stderr"
        },
        {
          "output_type": "stream",
          "text": [
            "val Loss: 0.5543 Acc: 0.8036\n",
            "Epoch 9/30\n",
            "-----------\n"
          ],
          "name": "stdout"
        },
        {
          "output_type": "stream",
          "text": [
            "\n",
            "\n",
            " 14%|█▍        | 1/7 [00:00<00:02,  2.88it/s]\u001b[A\u001b[A\n",
            "\n",
            " 29%|██▊       | 2/7 [00:00<00:01,  2.90it/s]\u001b[A\u001b[A\n",
            "\n",
            " 43%|████▎     | 3/7 [00:01<00:01,  2.93it/s]\u001b[A\u001b[A\n",
            "\n",
            " 57%|█████▋    | 4/7 [00:01<00:01,  2.91it/s]\u001b[A\u001b[A\n",
            "\n",
            " 71%|███████▏  | 5/7 [00:01<00:00,  2.92it/s]\u001b[A\u001b[A\n",
            "\n",
            " 86%|████████▌ | 6/7 [00:02<00:00,  2.94it/s]\u001b[A\u001b[A\n",
            "\n",
            "100%|██████████| 7/7 [00:02<00:00,  2.93it/s]\n",
            "\n",
            "\n",
            "  0%|          | 0/2 [00:00<?, ?it/s]\u001b[A\u001b[A"
          ],
          "name": "stderr"
        },
        {
          "output_type": "stream",
          "text": [
            "train Loss: 0.5839 Acc: 0.6786\n"
          ],
          "name": "stdout"
        },
        {
          "output_type": "stream",
          "text": [
            "\n",
            "\n",
            " 50%|█████     | 1/2 [00:00<00:00,  3.01it/s]\u001b[A\u001b[A\n",
            "\n",
            "100%|██████████| 2/2 [00:00<00:00,  3.29it/s]\n",
            "\n",
            "\n",
            "  0%|          | 0/7 [00:00<?, ?it/s]\u001b[A\u001b[A"
          ],
          "name": "stderr"
        },
        {
          "output_type": "stream",
          "text": [
            "val Loss: 0.5458 Acc: 0.7679\n",
            "Epoch 10/30\n",
            "-----------\n"
          ],
          "name": "stdout"
        },
        {
          "output_type": "stream",
          "text": [
            "\n",
            "\n",
            " 14%|█▍        | 1/7 [00:00<00:02,  2.92it/s]\u001b[A\u001b[A\n",
            "\n",
            " 29%|██▊       | 2/7 [00:00<00:01,  2.92it/s]\u001b[A\u001b[A\n",
            "\n",
            " 43%|████▎     | 3/7 [00:01<00:01,  2.92it/s]\u001b[A\u001b[A\n",
            "\n",
            " 57%|█████▋    | 4/7 [00:01<00:01,  2.92it/s]\u001b[A\u001b[A\n",
            "\n",
            " 71%|███████▏  | 5/7 [00:01<00:00,  2.92it/s]\u001b[A\u001b[A\n",
            "\n",
            " 86%|████████▌ | 6/7 [00:02<00:00,  2.91it/s]\u001b[A\u001b[A\n",
            "\n",
            "100%|██████████| 7/7 [00:02<00:00,  2.90it/s]\n",
            "\n",
            "\n",
            "  0%|          | 0/2 [00:00<?, ?it/s]\u001b[A\u001b[A"
          ],
          "name": "stderr"
        },
        {
          "output_type": "stream",
          "text": [
            "train Loss: 0.5804 Acc: 0.6741\n"
          ],
          "name": "stdout"
        },
        {
          "output_type": "stream",
          "text": [
            "\n",
            "\n",
            " 50%|█████     | 1/2 [00:00<00:00,  2.91it/s]\u001b[A\u001b[A\n",
            "\n",
            "100%|██████████| 2/2 [00:00<00:00,  3.19it/s]\n",
            "\n",
            "\n",
            "  0%|          | 0/7 [00:00<?, ?it/s]\u001b[A\u001b[A"
          ],
          "name": "stderr"
        },
        {
          "output_type": "stream",
          "text": [
            "val Loss: 0.5456 Acc: 0.7679\n",
            "Epoch 11/30\n",
            "-----------\n"
          ],
          "name": "stdout"
        },
        {
          "output_type": "stream",
          "text": [
            "\n",
            "\n",
            " 14%|█▍        | 1/7 [00:00<00:02,  2.94it/s]\u001b[A\u001b[A\n",
            "\n",
            " 29%|██▊       | 2/7 [00:00<00:01,  2.94it/s]\u001b[A\u001b[A\n",
            "\n",
            " 43%|████▎     | 3/7 [00:01<00:01,  2.95it/s]\u001b[A\u001b[A\n",
            "\n",
            " 57%|█████▋    | 4/7 [00:01<00:01,  2.92it/s]\u001b[A\u001b[A\n",
            "\n",
            " 71%|███████▏  | 5/7 [00:01<00:00,  2.91it/s]\u001b[A\u001b[A\n",
            "\n",
            " 86%|████████▌ | 6/7 [00:02<00:00,  2.91it/s]\u001b[A\u001b[A\n",
            "\n",
            "100%|██████████| 7/7 [00:02<00:00,  2.91it/s]\n",
            "\n",
            "\n",
            "  0%|          | 0/2 [00:00<?, ?it/s]\u001b[A\u001b[A"
          ],
          "name": "stderr"
        },
        {
          "output_type": "stream",
          "text": [
            "train Loss: 0.5648 Acc: 0.7366\n"
          ],
          "name": "stdout"
        },
        {
          "output_type": "stream",
          "text": [
            "\n",
            "\n",
            " 50%|█████     | 1/2 [00:00<00:00,  3.07it/s]\u001b[A\u001b[A\n",
            "\n",
            "100%|██████████| 2/2 [00:00<00:00,  3.32it/s]\n",
            "\n",
            "\n",
            "  0%|          | 0/7 [00:00<?, ?it/s]\u001b[A\u001b[A"
          ],
          "name": "stderr"
        },
        {
          "output_type": "stream",
          "text": [
            "val Loss: 0.5444 Acc: 0.6786\n",
            "Epoch 12/30\n",
            "-----------\n"
          ],
          "name": "stdout"
        },
        {
          "output_type": "stream",
          "text": [
            "\n",
            "\n",
            " 14%|█▍        | 1/7 [00:00<00:02,  2.90it/s]\u001b[A\u001b[A\n",
            "\n",
            " 29%|██▊       | 2/7 [00:00<00:01,  2.91it/s]\u001b[A\u001b[A\n",
            "\n",
            " 43%|████▎     | 3/7 [00:01<00:01,  2.90it/s]\u001b[A\u001b[A\n",
            "\n",
            " 57%|█████▋    | 4/7 [00:01<00:01,  2.91it/s]\u001b[A\u001b[A\n",
            "\n",
            " 71%|███████▏  | 5/7 [00:01<00:00,  2.91it/s]\u001b[A\u001b[A\n",
            "\n",
            " 86%|████████▌ | 6/7 [00:02<00:00,  2.94it/s]\u001b[A\u001b[A\n",
            "\n",
            "100%|██████████| 7/7 [00:02<00:00,  2.92it/s]\n",
            "\n",
            "\n",
            "  0%|          | 0/2 [00:00<?, ?it/s]\u001b[A\u001b[A"
          ],
          "name": "stderr"
        },
        {
          "output_type": "stream",
          "text": [
            "train Loss: 0.5701 Acc: 0.6741\n"
          ],
          "name": "stdout"
        },
        {
          "output_type": "stream",
          "text": [
            "\n",
            "\n",
            " 50%|█████     | 1/2 [00:00<00:00,  2.98it/s]\u001b[A\u001b[A\n",
            "\n",
            "100%|██████████| 2/2 [00:00<00:00,  3.24it/s]\n",
            "\n",
            "\n",
            "  0%|          | 0/7 [00:00<?, ?it/s]\u001b[A\u001b[A"
          ],
          "name": "stderr"
        },
        {
          "output_type": "stream",
          "text": [
            "val Loss: 0.5318 Acc: 0.7857\n",
            "Epoch 13/30\n",
            "-----------\n"
          ],
          "name": "stdout"
        },
        {
          "output_type": "stream",
          "text": [
            "\n",
            "\n",
            " 14%|█▍        | 1/7 [00:00<00:02,  2.97it/s]\u001b[A\u001b[A\n",
            "\n",
            " 29%|██▊       | 2/7 [00:00<00:01,  2.95it/s]\u001b[A\u001b[A\n",
            "\n",
            " 43%|████▎     | 3/7 [00:01<00:01,  2.95it/s]\u001b[A\u001b[A\n",
            "\n",
            " 57%|█████▋    | 4/7 [00:01<00:01,  2.93it/s]\u001b[A\u001b[A\n",
            "\n",
            " 71%|███████▏  | 5/7 [00:01<00:00,  2.93it/s]\u001b[A\u001b[A\n",
            "\n",
            " 86%|████████▌ | 6/7 [00:02<00:00,  2.92it/s]\u001b[A\u001b[A\n",
            "\n",
            "100%|██████████| 7/7 [00:02<00:00,  2.91it/s]\n",
            "\n",
            "\n",
            "  0%|          | 0/2 [00:00<?, ?it/s]\u001b[A\u001b[A"
          ],
          "name": "stderr"
        },
        {
          "output_type": "stream",
          "text": [
            "train Loss: 0.5242 Acc: 0.7500\n"
          ],
          "name": "stdout"
        },
        {
          "output_type": "stream",
          "text": [
            "\n",
            "\n",
            " 50%|█████     | 1/2 [00:00<00:00,  3.00it/s]\u001b[A\u001b[A\n",
            "\n",
            "100%|██████████| 2/2 [00:00<00:00,  3.26it/s]\n",
            "\n",
            "\n",
            "  0%|          | 0/7 [00:00<?, ?it/s]\u001b[A\u001b[A"
          ],
          "name": "stderr"
        },
        {
          "output_type": "stream",
          "text": [
            "val Loss: 0.5334 Acc: 0.7143\n",
            "Epoch 14/30\n",
            "-----------\n"
          ],
          "name": "stdout"
        },
        {
          "output_type": "stream",
          "text": [
            "\n",
            "\n",
            " 14%|█▍        | 1/7 [00:00<00:02,  2.96it/s]\u001b[A\u001b[A\n",
            "\n",
            " 29%|██▊       | 2/7 [00:00<00:01,  2.93it/s]\u001b[A\u001b[A\n",
            "\n",
            " 43%|████▎     | 3/7 [00:01<00:01,  2.92it/s]\u001b[A\u001b[A\n",
            "\n",
            " 57%|█████▋    | 4/7 [00:01<00:01,  2.92it/s]\u001b[A\u001b[A\n",
            "\n",
            " 71%|███████▏  | 5/7 [00:01<00:00,  2.92it/s]\u001b[A\u001b[A\n",
            "\n",
            " 86%|████████▌ | 6/7 [00:02<00:00,  2.92it/s]\u001b[A\u001b[A\n",
            "\n",
            "100%|██████████| 7/7 [00:02<00:00,  2.89it/s]\n",
            "\n",
            "\n",
            "  0%|          | 0/2 [00:00<?, ?it/s]\u001b[A\u001b[A"
          ],
          "name": "stderr"
        },
        {
          "output_type": "stream",
          "text": [
            "train Loss: 0.5264 Acc: 0.7232\n"
          ],
          "name": "stdout"
        },
        {
          "output_type": "stream",
          "text": [
            "\n",
            "\n",
            " 50%|█████     | 1/2 [00:00<00:00,  2.98it/s]\u001b[A\u001b[A\n",
            "\n",
            "100%|██████████| 2/2 [00:00<00:00,  3.28it/s]\n",
            "\n",
            "\n",
            "  0%|          | 0/7 [00:00<?, ?it/s]\u001b[A\u001b[A"
          ],
          "name": "stderr"
        },
        {
          "output_type": "stream",
          "text": [
            "val Loss: 0.5100 Acc: 0.8036\n",
            "Epoch 15/30\n",
            "-----------\n"
          ],
          "name": "stdout"
        },
        {
          "output_type": "stream",
          "text": [
            "\n",
            "\n",
            " 14%|█▍        | 1/7 [00:00<00:01,  3.00it/s]\u001b[A\u001b[A\n",
            "\n",
            " 29%|██▊       | 2/7 [00:00<00:01,  2.98it/s]\u001b[A\u001b[A\n",
            "\n",
            " 43%|████▎     | 3/7 [00:01<00:01,  2.95it/s]\u001b[A\u001b[A\n",
            "\n",
            " 57%|█████▋    | 4/7 [00:01<00:01,  2.96it/s]\u001b[A\u001b[A\n",
            "\n",
            " 71%|███████▏  | 5/7 [00:01<00:00,  2.96it/s]\u001b[A\u001b[A\n",
            "\n",
            " 86%|████████▌ | 6/7 [00:02<00:00,  2.92it/s]\u001b[A\u001b[A\n",
            "\n",
            "100%|██████████| 7/7 [00:02<00:00,  2.90it/s]\n",
            "\n",
            "\n",
            "  0%|          | 0/2 [00:00<?, ?it/s]\u001b[A\u001b[A"
          ],
          "name": "stderr"
        },
        {
          "output_type": "stream",
          "text": [
            "train Loss: 0.5693 Acc: 0.7098\n"
          ],
          "name": "stdout"
        },
        {
          "output_type": "stream",
          "text": [
            "\n",
            "\n",
            " 50%|█████     | 1/2 [00:00<00:00,  3.03it/s]\u001b[A\u001b[A\n",
            "\n",
            "100%|██████████| 2/2 [00:00<00:00,  3.32it/s]\n",
            "\n",
            "\n",
            "  0%|          | 0/7 [00:00<?, ?it/s]\u001b[A\u001b[A"
          ],
          "name": "stderr"
        },
        {
          "output_type": "stream",
          "text": [
            "val Loss: 0.5031 Acc: 0.7679\n",
            "Epoch 16/30\n",
            "-----------\n"
          ],
          "name": "stdout"
        },
        {
          "output_type": "stream",
          "text": [
            "\n",
            "\n",
            " 14%|█▍        | 1/7 [00:00<00:02,  2.85it/s]\u001b[A\u001b[A\n",
            "\n",
            " 29%|██▊       | 2/7 [00:00<00:01,  2.87it/s]\u001b[A\u001b[A\n",
            "\n",
            " 43%|████▎     | 3/7 [00:01<00:01,  2.88it/s]\u001b[A\u001b[A\n",
            "\n",
            " 57%|█████▋    | 4/7 [00:01<00:01,  2.89it/s]\u001b[A\u001b[A\n",
            "\n",
            " 71%|███████▏  | 5/7 [00:01<00:00,  2.89it/s]\u001b[A\u001b[A\n",
            "\n",
            " 86%|████████▌ | 6/7 [00:02<00:00,  2.91it/s]\u001b[A\u001b[A\n",
            "\n",
            "100%|██████████| 7/7 [00:02<00:00,  2.90it/s]\n",
            "\n",
            "\n",
            "  0%|          | 0/2 [00:00<?, ?it/s]\u001b[A\u001b[A"
          ],
          "name": "stderr"
        },
        {
          "output_type": "stream",
          "text": [
            "train Loss: 0.5293 Acc: 0.7009\n"
          ],
          "name": "stdout"
        },
        {
          "output_type": "stream",
          "text": [
            "\n",
            "\n",
            " 50%|█████     | 1/2 [00:00<00:00,  3.07it/s]\u001b[A\u001b[A\n",
            "\n",
            "100%|██████████| 2/2 [00:00<00:00,  3.33it/s]\n",
            "\n",
            "\n",
            "  0%|          | 0/7 [00:00<?, ?it/s]\u001b[A\u001b[A"
          ],
          "name": "stderr"
        },
        {
          "output_type": "stream",
          "text": [
            "val Loss: 0.4872 Acc: 0.8214\n",
            "Epoch 17/30\n",
            "-----------\n"
          ],
          "name": "stdout"
        },
        {
          "output_type": "stream",
          "text": [
            "\n",
            "\n",
            " 14%|█▍        | 1/7 [00:00<00:02,  2.87it/s]\u001b[A\u001b[A\n",
            "\n",
            " 29%|██▊       | 2/7 [00:00<00:01,  2.90it/s]\u001b[A\u001b[A\n",
            "\n",
            " 43%|████▎     | 3/7 [00:01<00:01,  2.85it/s]\u001b[A\u001b[A\n",
            "\n",
            " 57%|█████▋    | 4/7 [00:01<00:01,  2.87it/s]\u001b[A\u001b[A\n",
            "\n",
            " 71%|███████▏  | 5/7 [00:01<00:00,  2.86it/s]\u001b[A\u001b[A\n",
            "\n",
            " 86%|████████▌ | 6/7 [00:02<00:00,  2.87it/s]\u001b[A\u001b[A\n",
            "\n",
            "100%|██████████| 7/7 [00:02<00:00,  2.85it/s]\n",
            "\n",
            "\n",
            "  0%|          | 0/2 [00:00<?, ?it/s]\u001b[A\u001b[A"
          ],
          "name": "stderr"
        },
        {
          "output_type": "stream",
          "text": [
            "train Loss: 0.5187 Acc: 0.7589\n"
          ],
          "name": "stdout"
        },
        {
          "output_type": "stream",
          "text": [
            "\n",
            "\n",
            " 50%|█████     | 1/2 [00:00<00:00,  2.94it/s]\u001b[A\u001b[A\n",
            "\n",
            "100%|██████████| 2/2 [00:00<00:00,  3.23it/s]\n",
            "\n",
            "\n",
            "  0%|          | 0/7 [00:00<?, ?it/s]\u001b[A\u001b[A"
          ],
          "name": "stderr"
        },
        {
          "output_type": "stream",
          "text": [
            "val Loss: 0.5026 Acc: 0.7321\n",
            "Epoch 18/30\n",
            "-----------\n"
          ],
          "name": "stdout"
        },
        {
          "output_type": "stream",
          "text": [
            "\n",
            "\n",
            " 14%|█▍        | 1/7 [00:00<00:01,  3.01it/s]\u001b[A\u001b[A\n",
            "\n",
            " 29%|██▊       | 2/7 [00:00<00:01,  3.00it/s]\u001b[A\u001b[A\n",
            "\n",
            " 43%|████▎     | 3/7 [00:01<00:01,  2.97it/s]\u001b[A\u001b[A\n",
            "\n",
            " 57%|█████▋    | 4/7 [00:01<00:01,  2.94it/s]\u001b[A\u001b[A\n",
            "\n",
            " 71%|███████▏  | 5/7 [00:01<00:00,  2.94it/s]\u001b[A\u001b[A\n",
            "\n",
            " 86%|████████▌ | 6/7 [00:02<00:00,  2.93it/s]\u001b[A\u001b[A\n",
            "\n",
            "100%|██████████| 7/7 [00:02<00:00,  2.91it/s]\n",
            "\n",
            "\n",
            "  0%|          | 0/2 [00:00<?, ?it/s]\u001b[A\u001b[A"
          ],
          "name": "stderr"
        },
        {
          "output_type": "stream",
          "text": [
            "train Loss: 0.5144 Acc: 0.7500\n"
          ],
          "name": "stdout"
        },
        {
          "output_type": "stream",
          "text": [
            "\n",
            "\n",
            " 50%|█████     | 1/2 [00:00<00:00,  2.94it/s]\u001b[A\u001b[A\n",
            "\n",
            "100%|██████████| 2/2 [00:00<00:00,  3.22it/s]\n",
            "\n",
            "\n",
            "  0%|          | 0/7 [00:00<?, ?it/s]\u001b[A\u001b[A"
          ],
          "name": "stderr"
        },
        {
          "output_type": "stream",
          "text": [
            "val Loss: 0.4929 Acc: 0.8036\n",
            "Epoch 19/30\n",
            "-----------\n"
          ],
          "name": "stdout"
        },
        {
          "output_type": "stream",
          "text": [
            "\n",
            "\n",
            " 14%|█▍        | 1/7 [00:00<00:02,  3.00it/s]\u001b[A\u001b[A\n",
            "\n",
            " 29%|██▊       | 2/7 [00:00<00:01,  2.95it/s]\u001b[A\u001b[A\n",
            "\n",
            " 43%|████▎     | 3/7 [00:01<00:01,  2.95it/s]\u001b[A\u001b[A\n",
            "\n",
            " 57%|█████▋    | 4/7 [00:01<00:01,  2.93it/s]\u001b[A\u001b[A\n",
            "\n",
            " 71%|███████▏  | 5/7 [00:01<00:00,  2.92it/s]\u001b[A\u001b[A\n",
            "\n",
            " 86%|████████▌ | 6/7 [00:02<00:00,  2.92it/s]\u001b[A\u001b[A\n",
            "\n",
            "100%|██████████| 7/7 [00:02<00:00,  2.89it/s]\n",
            "\n",
            "\n",
            "  0%|          | 0/2 [00:00<?, ?it/s]\u001b[A\u001b[A"
          ],
          "name": "stderr"
        },
        {
          "output_type": "stream",
          "text": [
            "train Loss: 0.5060 Acc: 0.7455\n"
          ],
          "name": "stdout"
        },
        {
          "output_type": "stream",
          "text": [
            "\n",
            "\n",
            " 50%|█████     | 1/2 [00:00<00:00,  2.96it/s]\u001b[A\u001b[A\n",
            "\n",
            "100%|██████████| 2/2 [00:00<00:00,  3.19it/s]\n",
            "\n",
            "\n",
            "  0%|          | 0/7 [00:00<?, ?it/s]\u001b[A\u001b[A"
          ],
          "name": "stderr"
        },
        {
          "output_type": "stream",
          "text": [
            "val Loss: 0.4989 Acc: 0.7679\n",
            "Epoch 20/30\n",
            "-----------\n"
          ],
          "name": "stdout"
        },
        {
          "output_type": "stream",
          "text": [
            "\n",
            "\n",
            " 14%|█▍        | 1/7 [00:00<00:01,  3.02it/s]\u001b[A\u001b[A\n",
            "\n",
            " 29%|██▊       | 2/7 [00:00<00:01,  2.99it/s]\u001b[A\u001b[A\n",
            "\n",
            " 43%|████▎     | 3/7 [00:01<00:01,  2.98it/s]\u001b[A\u001b[A\n",
            "\n",
            " 57%|█████▋    | 4/7 [00:01<00:01,  2.97it/s]\u001b[A\u001b[A\n",
            "\n",
            " 71%|███████▏  | 5/7 [00:01<00:00,  2.96it/s]\u001b[A\u001b[A\n",
            "\n",
            " 86%|████████▌ | 6/7 [00:02<00:00,  2.94it/s]\u001b[A\u001b[A\n",
            "\n",
            "100%|██████████| 7/7 [00:02<00:00,  2.94it/s]\n",
            "\n",
            "\n",
            "  0%|          | 0/2 [00:00<?, ?it/s]\u001b[A\u001b[A"
          ],
          "name": "stderr"
        },
        {
          "output_type": "stream",
          "text": [
            "train Loss: 0.5141 Acc: 0.7411\n"
          ],
          "name": "stdout"
        },
        {
          "output_type": "stream",
          "text": [
            "\n",
            "\n",
            " 50%|█████     | 1/2 [00:00<00:00,  2.94it/s]\u001b[A\u001b[A\n",
            "\n",
            "100%|██████████| 2/2 [00:00<00:00,  3.21it/s]\n",
            "\n",
            "\n",
            "  0%|          | 0/7 [00:00<?, ?it/s]\u001b[A\u001b[A"
          ],
          "name": "stderr"
        },
        {
          "output_type": "stream",
          "text": [
            "val Loss: 0.4816 Acc: 0.7679\n",
            "Epoch 21/30\n",
            "-----------\n"
          ],
          "name": "stdout"
        },
        {
          "output_type": "stream",
          "text": [
            "\n",
            "\n",
            " 14%|█▍        | 1/7 [00:00<00:01,  3.05it/s]\u001b[A\u001b[A\n",
            "\n",
            " 29%|██▊       | 2/7 [00:00<00:01,  3.00it/s]\u001b[A\u001b[A\n",
            "\n",
            " 43%|████▎     | 3/7 [00:01<00:01,  2.94it/s]\u001b[A\u001b[A\n",
            "\n",
            " 57%|█████▋    | 4/7 [00:01<00:01,  2.94it/s]\u001b[A\u001b[A\n",
            "\n",
            " 71%|███████▏  | 5/7 [00:01<00:00,  2.94it/s]\u001b[A\u001b[A\n",
            "\n",
            " 86%|████████▌ | 6/7 [00:02<00:00,  2.90it/s]\u001b[A\u001b[A\n",
            "\n",
            "100%|██████████| 7/7 [00:02<00:00,  2.90it/s]\n",
            "\n",
            "\n",
            "  0%|          | 0/2 [00:00<?, ?it/s]\u001b[A\u001b[A"
          ],
          "name": "stderr"
        },
        {
          "output_type": "stream",
          "text": [
            "train Loss: 0.5013 Acc: 0.7589\n"
          ],
          "name": "stdout"
        },
        {
          "output_type": "stream",
          "text": [
            "\n",
            "\n",
            " 50%|█████     | 1/2 [00:00<00:00,  3.03it/s]\u001b[A\u001b[A\n",
            "\n",
            "100%|██████████| 2/2 [00:00<00:00,  3.25it/s]\n",
            "\n",
            "\n",
            "  0%|          | 0/7 [00:00<?, ?it/s]\u001b[A\u001b[A"
          ],
          "name": "stderr"
        },
        {
          "output_type": "stream",
          "text": [
            "val Loss: 0.4759 Acc: 0.7857\n",
            "Epoch 22/30\n",
            "-----------\n"
          ],
          "name": "stdout"
        },
        {
          "output_type": "stream",
          "text": [
            "\n",
            "\n",
            " 14%|█▍        | 1/7 [00:00<00:02,  2.99it/s]\u001b[A\u001b[A\n",
            "\n",
            " 29%|██▊       | 2/7 [00:00<00:01,  2.96it/s]\u001b[A\u001b[A\n",
            "\n",
            " 43%|████▎     | 3/7 [00:01<00:01,  2.94it/s]\u001b[A\u001b[A\n",
            "\n",
            " 57%|█████▋    | 4/7 [00:01<00:01,  2.94it/s]\u001b[A\u001b[A\n",
            "\n",
            " 71%|███████▏  | 5/7 [00:01<00:00,  2.93it/s]\u001b[A\u001b[A\n",
            "\n",
            " 86%|████████▌ | 6/7 [00:02<00:00,  2.91it/s]\u001b[A\u001b[A\n",
            "\n",
            "100%|██████████| 7/7 [00:02<00:00,  2.90it/s]\n",
            "\n",
            "\n",
            "  0%|          | 0/2 [00:00<?, ?it/s]\u001b[A\u001b[A"
          ],
          "name": "stderr"
        },
        {
          "output_type": "stream",
          "text": [
            "train Loss: 0.5493 Acc: 0.7054\n"
          ],
          "name": "stdout"
        },
        {
          "output_type": "stream",
          "text": [
            "\n",
            "\n",
            " 50%|█████     | 1/2 [00:00<00:00,  2.98it/s]\u001b[A\u001b[A\n",
            "\n",
            "100%|██████████| 2/2 [00:00<00:00,  3.19it/s]\n",
            "\n",
            "\n",
            "  0%|          | 0/7 [00:00<?, ?it/s]\u001b[A\u001b[A"
          ],
          "name": "stderr"
        },
        {
          "output_type": "stream",
          "text": [
            "val Loss: 0.4922 Acc: 0.7143\n",
            "Epoch 23/30\n",
            "-----------\n"
          ],
          "name": "stdout"
        },
        {
          "output_type": "stream",
          "text": [
            "\n",
            "\n",
            " 14%|█▍        | 1/7 [00:00<00:02,  2.96it/s]\u001b[A\u001b[A\n",
            "\n",
            " 29%|██▊       | 2/7 [00:00<00:01,  2.95it/s]\u001b[A\u001b[A\n",
            "\n",
            " 43%|████▎     | 3/7 [00:01<00:01,  2.92it/s]\u001b[A\u001b[A\n",
            "\n",
            " 57%|█████▋    | 4/7 [00:01<00:01,  2.92it/s]\u001b[A\u001b[A\n",
            "\n",
            " 71%|███████▏  | 5/7 [00:01<00:00,  2.90it/s]\u001b[A\u001b[A\n",
            "\n",
            " 86%|████████▌ | 6/7 [00:02<00:00,  2.89it/s]\u001b[A\u001b[A\n",
            "\n",
            "100%|██████████| 7/7 [00:02<00:00,  2.89it/s]\n",
            "\n",
            "\n",
            "  0%|          | 0/2 [00:00<?, ?it/s]\u001b[A\u001b[A"
          ],
          "name": "stderr"
        },
        {
          "output_type": "stream",
          "text": [
            "train Loss: 0.5098 Acc: 0.7455\n"
          ],
          "name": "stdout"
        },
        {
          "output_type": "stream",
          "text": [
            "\n",
            "\n",
            " 50%|█████     | 1/2 [00:00<00:00,  2.87it/s]\u001b[A\u001b[A\n",
            "\n",
            "100%|██████████| 2/2 [00:00<00:00,  3.13it/s]\n",
            "\n",
            "\n",
            "  0%|          | 0/7 [00:00<?, ?it/s]\u001b[A\u001b[A"
          ],
          "name": "stderr"
        },
        {
          "output_type": "stream",
          "text": [
            "val Loss: 0.4632 Acc: 0.8214\n",
            "Epoch 24/30\n",
            "-----------\n"
          ],
          "name": "stdout"
        },
        {
          "output_type": "stream",
          "text": [
            "\n",
            "\n",
            " 14%|█▍        | 1/7 [00:00<00:02,  2.83it/s]\u001b[A\u001b[A\n",
            "\n",
            " 29%|██▊       | 2/7 [00:00<00:01,  2.87it/s]\u001b[A\u001b[A\n",
            "\n",
            " 43%|████▎     | 3/7 [00:01<00:01,  2.89it/s]\u001b[A\u001b[A\n",
            "\n",
            " 57%|█████▋    | 4/7 [00:01<00:01,  2.90it/s]\u001b[A\u001b[A\n",
            "\n",
            " 71%|███████▏  | 5/7 [00:01<00:00,  2.87it/s]\u001b[A\u001b[A\n",
            "\n",
            " 86%|████████▌ | 6/7 [00:02<00:00,  2.87it/s]\u001b[A\u001b[A\n",
            "\n",
            "100%|██████████| 7/7 [00:02<00:00,  2.87it/s]\n",
            "\n",
            "\n",
            "  0%|          | 0/2 [00:00<?, ?it/s]\u001b[A\u001b[A"
          ],
          "name": "stderr"
        },
        {
          "output_type": "stream",
          "text": [
            "train Loss: 0.5461 Acc: 0.7098\n"
          ],
          "name": "stdout"
        },
        {
          "output_type": "stream",
          "text": [
            "\n",
            "\n",
            " 50%|█████     | 1/2 [00:00<00:00,  2.91it/s]\u001b[A\u001b[A\n",
            "\n",
            "100%|██████████| 2/2 [00:00<00:00,  3.20it/s]\n",
            "\n",
            "\n",
            "  0%|          | 0/7 [00:00<?, ?it/s]\u001b[A\u001b[A"
          ],
          "name": "stderr"
        },
        {
          "output_type": "stream",
          "text": [
            "val Loss: 0.4938 Acc: 0.7143\n",
            "Epoch 25/30\n",
            "-----------\n"
          ],
          "name": "stdout"
        },
        {
          "output_type": "stream",
          "text": [
            "\n",
            "\n",
            " 14%|█▍        | 1/7 [00:00<00:02,  2.89it/s]\u001b[A\u001b[A\n",
            "\n",
            " 29%|██▊       | 2/7 [00:00<00:01,  2.89it/s]\u001b[A\u001b[A\n",
            "\n",
            " 43%|████▎     | 3/7 [00:01<00:01,  2.88it/s]\u001b[A\u001b[A\n",
            "\n",
            " 57%|█████▋    | 4/7 [00:01<00:01,  2.88it/s]\u001b[A\u001b[A\n",
            "\n",
            " 71%|███████▏  | 5/7 [00:01<00:00,  2.87it/s]\u001b[A\u001b[A\n",
            "\n",
            " 86%|████████▌ | 6/7 [00:02<00:00,  2.88it/s]\u001b[A\u001b[A\n",
            "\n",
            "100%|██████████| 7/7 [00:02<00:00,  2.85it/s]\n",
            "\n",
            "\n",
            "  0%|          | 0/2 [00:00<?, ?it/s]\u001b[A\u001b[A"
          ],
          "name": "stderr"
        },
        {
          "output_type": "stream",
          "text": [
            "train Loss: 0.4992 Acc: 0.7455\n"
          ],
          "name": "stdout"
        },
        {
          "output_type": "stream",
          "text": [
            "\n",
            "\n",
            " 50%|█████     | 1/2 [00:00<00:00,  2.95it/s]\u001b[A\u001b[A\n",
            "\n",
            "100%|██████████| 2/2 [00:00<00:00,  3.25it/s]\n",
            "\n",
            "\n",
            "  0%|          | 0/7 [00:00<?, ?it/s]\u001b[A\u001b[A"
          ],
          "name": "stderr"
        },
        {
          "output_type": "stream",
          "text": [
            "val Loss: 0.4543 Acc: 0.8214\n",
            "Epoch 26/30\n",
            "-----------\n"
          ],
          "name": "stdout"
        },
        {
          "output_type": "stream",
          "text": [
            "\n",
            "\n",
            " 14%|█▍        | 1/7 [00:00<00:01,  3.01it/s]\u001b[A\u001b[A\n",
            "\n",
            " 29%|██▊       | 2/7 [00:00<00:01,  2.99it/s]\u001b[A\u001b[A\n",
            "\n",
            " 43%|████▎     | 3/7 [00:01<00:01,  2.94it/s]\u001b[A\u001b[A\n",
            "\n",
            " 57%|█████▋    | 4/7 [00:01<00:01,  2.91it/s]\u001b[A\u001b[A\n",
            "\n",
            " 71%|███████▏  | 5/7 [00:01<00:00,  2.88it/s]\u001b[A\u001b[A\n",
            "\n",
            " 86%|████████▌ | 6/7 [00:02<00:00,  2.89it/s]\u001b[A\u001b[A\n",
            "\n",
            "100%|██████████| 7/7 [00:02<00:00,  2.88it/s]\n",
            "\n",
            "\n",
            "  0%|          | 0/2 [00:00<?, ?it/s]\u001b[A\u001b[A"
          ],
          "name": "stderr"
        },
        {
          "output_type": "stream",
          "text": [
            "train Loss: 0.5003 Acc: 0.7321\n"
          ],
          "name": "stdout"
        },
        {
          "output_type": "stream",
          "text": [
            "\n",
            "\n",
            " 50%|█████     | 1/2 [00:00<00:00,  3.03it/s]\u001b[A\u001b[A\n",
            "\n",
            "100%|██████████| 2/2 [00:00<00:00,  3.26it/s]\n",
            "\n",
            "\n",
            "  0%|          | 0/7 [00:00<?, ?it/s]\u001b[A\u001b[A"
          ],
          "name": "stderr"
        },
        {
          "output_type": "stream",
          "text": [
            "val Loss: 0.4616 Acc: 0.7679\n",
            "Epoch 27/30\n",
            "-----------\n"
          ],
          "name": "stdout"
        },
        {
          "output_type": "stream",
          "text": [
            "\n",
            "\n",
            " 14%|█▍        | 1/7 [00:00<00:01,  3.02it/s]\u001b[A\u001b[A\n",
            "\n",
            " 29%|██▊       | 2/7 [00:00<00:01,  2.98it/s]\u001b[A\u001b[A\n",
            "\n",
            " 43%|████▎     | 3/7 [00:01<00:01,  2.95it/s]\u001b[A\u001b[A\n",
            "\n",
            " 57%|█████▋    | 4/7 [00:01<00:01,  2.95it/s]\u001b[A\u001b[A\n",
            "\n",
            " 71%|███████▏  | 5/7 [00:01<00:00,  2.92it/s]\u001b[A\u001b[A\n",
            "\n",
            " 86%|████████▌ | 6/7 [00:02<00:00,  2.91it/s]\u001b[A\u001b[A\n",
            "\n",
            "100%|██████████| 7/7 [00:02<00:00,  2.91it/s]\n",
            "\n",
            "\n",
            "  0%|          | 0/2 [00:00<?, ?it/s]\u001b[A\u001b[A"
          ],
          "name": "stderr"
        },
        {
          "output_type": "stream",
          "text": [
            "train Loss: 0.5086 Acc: 0.7634\n"
          ],
          "name": "stdout"
        },
        {
          "output_type": "stream",
          "text": [
            "\n",
            "\n",
            " 50%|█████     | 1/2 [00:00<00:00,  2.89it/s]\u001b[A\u001b[A\n",
            "\n",
            "100%|██████████| 2/2 [00:00<00:00,  3.18it/s]\n",
            "\n",
            "\n",
            "  0%|          | 0/7 [00:00<?, ?it/s]\u001b[A\u001b[A"
          ],
          "name": "stderr"
        },
        {
          "output_type": "stream",
          "text": [
            "val Loss: 0.4468 Acc: 0.8214\n",
            "Epoch 28/30\n",
            "-----------\n"
          ],
          "name": "stdout"
        },
        {
          "output_type": "stream",
          "text": [
            "\n",
            "\n",
            " 14%|█▍        | 1/7 [00:00<00:02,  2.96it/s]\u001b[A\u001b[A\n",
            "\n",
            " 29%|██▊       | 2/7 [00:00<00:01,  2.95it/s]\u001b[A\u001b[A\n",
            "\n",
            " 43%|████▎     | 3/7 [00:01<00:01,  2.93it/s]\u001b[A\u001b[A\n",
            "\n",
            " 57%|█████▋    | 4/7 [00:01<00:01,  2.91it/s]\u001b[A\u001b[A\n",
            "\n",
            " 71%|███████▏  | 5/7 [00:01<00:00,  2.91it/s]\u001b[A\u001b[A\n",
            "\n",
            " 86%|████████▌ | 6/7 [00:02<00:00,  2.90it/s]\u001b[A\u001b[A\n",
            "\n",
            "100%|██████████| 7/7 [00:02<00:00,  2.89it/s]\n",
            "\n",
            "\n",
            "  0%|          | 0/2 [00:00<?, ?it/s]\u001b[A\u001b[A"
          ],
          "name": "stderr"
        },
        {
          "output_type": "stream",
          "text": [
            "train Loss: 0.4979 Acc: 0.7812\n"
          ],
          "name": "stdout"
        },
        {
          "output_type": "stream",
          "text": [
            "\n",
            "\n",
            " 50%|█████     | 1/2 [00:00<00:00,  3.02it/s]\u001b[A\u001b[A\n",
            "\n",
            "100%|██████████| 2/2 [00:00<00:00,  3.26it/s]\n",
            "\n",
            "\n",
            "  0%|          | 0/7 [00:00<?, ?it/s]\u001b[A\u001b[A"
          ],
          "name": "stderr"
        },
        {
          "output_type": "stream",
          "text": [
            "val Loss: 0.4430 Acc: 0.8571\n",
            "Epoch 29/30\n",
            "-----------\n"
          ],
          "name": "stdout"
        },
        {
          "output_type": "stream",
          "text": [
            "\n",
            "\n",
            " 14%|█▍        | 1/7 [00:00<00:02,  2.93it/s]\u001b[A\u001b[A\n",
            "\n",
            " 29%|██▊       | 2/7 [00:00<00:01,  2.91it/s]\u001b[A\u001b[A\n",
            "\n",
            " 43%|████▎     | 3/7 [00:01<00:01,  2.89it/s]\u001b[A\u001b[A\n",
            "\n",
            " 57%|█████▋    | 4/7 [00:01<00:01,  2.89it/s]\u001b[A\u001b[A\n",
            "\n",
            " 71%|███████▏  | 5/7 [00:01<00:00,  2.89it/s]\u001b[A\u001b[A\n",
            "\n",
            " 86%|████████▌ | 6/7 [00:02<00:00,  2.89it/s]\u001b[A\u001b[A\n",
            "\n",
            "100%|██████████| 7/7 [00:02<00:00,  2.87it/s]\n",
            "\n",
            "\n",
            "  0%|          | 0/2 [00:00<?, ?it/s]\u001b[A\u001b[A"
          ],
          "name": "stderr"
        },
        {
          "output_type": "stream",
          "text": [
            "train Loss: 0.5131 Acc: 0.7589\n"
          ],
          "name": "stdout"
        },
        {
          "output_type": "stream",
          "text": [
            "\n",
            "\n",
            " 50%|█████     | 1/2 [00:00<00:00,  2.91it/s]\u001b[A\u001b[A\n",
            "\n",
            "100%|██████████| 2/2 [00:00<00:00,  3.19it/s]\n",
            "\n",
            "\n",
            "  0%|          | 0/7 [00:00<?, ?it/s]\u001b[A\u001b[A"
          ],
          "name": "stderr"
        },
        {
          "output_type": "stream",
          "text": [
            "val Loss: 0.4519 Acc: 0.8036\n",
            "Epoch 30/30\n",
            "-----------\n"
          ],
          "name": "stdout"
        },
        {
          "output_type": "stream",
          "text": [
            "\n",
            "\n",
            " 14%|█▍        | 1/7 [00:00<00:02,  2.91it/s]\u001b[A\u001b[A\n",
            "\n",
            " 29%|██▊       | 2/7 [00:00<00:01,  2.90it/s]\u001b[A\u001b[A\n",
            "\n",
            " 43%|████▎     | 3/7 [00:01<00:01,  2.91it/s]\u001b[A\u001b[A\n",
            "\n",
            " 57%|█████▋    | 4/7 [00:01<00:01,  2.90it/s]\u001b[A\u001b[A\n",
            "\n",
            " 71%|███████▏  | 5/7 [00:01<00:00,  2.90it/s]\u001b[A\u001b[A\n",
            "\n",
            " 86%|████████▌ | 6/7 [00:02<00:00,  2.90it/s]\u001b[A\u001b[A\n",
            "\n",
            "100%|██████████| 7/7 [00:02<00:00,  2.88it/s]\n",
            "\n",
            "\n",
            "  0%|          | 0/2 [00:00<?, ?it/s]\u001b[A\u001b[A"
          ],
          "name": "stderr"
        },
        {
          "output_type": "stream",
          "text": [
            "train Loss: 0.4479 Acc: 0.7902\n"
          ],
          "name": "stdout"
        },
        {
          "output_type": "stream",
          "text": [
            "\n",
            "\n",
            " 50%|█████     | 1/2 [00:00<00:00,  2.90it/s]\u001b[A\u001b[A\n",
            "\n",
            "100%|██████████| 2/2 [00:00<00:00,  3.11it/s]"
          ],
          "name": "stderr"
        },
        {
          "output_type": "stream",
          "text": [
            "val Loss: 0.4602 Acc: 0.7857\n"
          ],
          "name": "stdout"
        },
        {
          "output_type": "stream",
          "text": [
            "\n"
          ],
          "name": "stderr"
        }
      ]
    },
    {
      "cell_type": "code",
      "metadata": {
        "colab": {
          "base_uri": "https://localhost:8080/",
          "height": 545
        },
        "id": "YZDTMBpGmXL3",
        "outputId": "5077910d-b258-47fb-9963-4a7cb58fa846"
      },
      "source": [
        "import matplotlib.pyplot as plt \n",
        "\n",
        "acc = history[\"train_accuracy\"]\n",
        "val_acc = history[\"val_accuracy\"]\n",
        "loss = history[\"train_loss\"]\n",
        "val_loss = history[\"val_loss\"]\n",
        "epochs = range(1, len(acc) + 1)\n",
        "\n",
        "#plot accuracy\n",
        "plt.plot(epochs, acc, label = \"Training acc\" )\n",
        "plt.plot(epochs, val_acc, label = \"Validation acc\")\n",
        "plt.title(\"Training and Validation accuracy\")\n",
        "plt.legend()\n",
        "plt.show()\n",
        "\n",
        "#plot loss\n",
        "plt.plot(epochs, loss,  label = \"Training loss\" )\n",
        "plt.plot(epochs, val_loss, label = \"Validation loss\")\n",
        "plt.title(\"Training and Validation loss\")\n",
        "plt.legend()\n",
        "plt.show()"
      ],
      "execution_count": 100,
      "outputs": [
        {
          "output_type": "display_data",
          "data": {
            "image/png": "[encoded data removed]",
            "text/plain": [
              "<Figure size 432x288 with 1 Axes>"
            ]
          },
          "metadata": {
            "tags": [],
            "needs_background": "light"
          }
        },
        {
          "output_type": "display_data",
          "data": {
            "image/png": "[encoded data removed]",
            "text/plain": [
              "<Figure size 432x288 with 1 Axes>"
            ]
          },
          "metadata": {
            "tags": [],
            "needs_background": "light"
          }
        }
      ]
    },
    {
      "cell_type": "code",
      "metadata": {
        "id": "XYdIrZTqmXPA"
      },
      "source": [
        ""
      ],
      "execution_count": null,
      "outputs": []
    }
  ]
}