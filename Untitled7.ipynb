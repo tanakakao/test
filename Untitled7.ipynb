{
  "nbformat": 4,
  "nbformat_minor": 0,
  "metadata": {
    "colab": {
      "name": "Untitled7.ipynb",
      "provenance": [],
      "machine_shape": "hm",
      "authorship_tag": "ABX9TyNXKfIQfJCKMIrcS3osDENc",
      "include_colab_link": true
    },
    "kernelspec": {
      "name": "python3",
      "display_name": "Python 3"
    },
    "language_info": {
      "name": "python"
    },
    "accelerator": "TPU"
  },
  "cells": [
    {
      "cell_type": "markdown",
      "metadata": {
        "id": "view-in-github",
        "colab_type": "text"
      },
      "source": [
        "<a href=\"https://colab.research.google.com/github/tanakakao/test/blob/main/Untitled7.ipynb\" target=\"_parent\"><img src=\"https://colab.research.google.com/assets/colab-badge.svg\" alt=\"Open In Colab\"/></a>"
      ]
    },
    {
      "cell_type": "code",
      "execution_count": 12,
      "metadata": {
        "id": "2jadrDnhoPbX"
      },
      "outputs": [],
      "source": [
        ""
      ]
    },
    {
      "cell_type": "code",
      "source": [
        ""
      ],
      "metadata": {
        "id": "zvDLhHeKoXjv"
      },
      "execution_count": 12,
      "outputs": []
    },
    {
      "cell_type": "code",
      "source": [
        "#!pip install janome"
      ],
      "metadata": {
        "id": "7aOhxstOoXbX"
      },
      "execution_count": 13,
      "outputs": []
    },
    {
      "cell_type": "code",
      "source": [
        "import tensorflow as tf\n",
        "import tensorflow.keras as keras\n",
        "from tensorflow.keras.models import Sequential, Model\n",
        "from tensorflow.keras.layers import Layer, Input, Dense, Conv1D, Activation, Dropout, LayerNormalization, Reshape, Embedding, MultiHeadAttention\n",
        "from tensorflow.keras import activations\n",
        "import numpy as np\n",
        "import math"
      ],
      "metadata": {
        "id": "gbCpbRcOoXTU"
      },
      "execution_count": 14,
      "outputs": []
    },
    {
      "cell_type": "code",
      "source": [
        "class MultiHeadAttention(Layer):\n",
        "    '''\n",
        "    Multi-Head Attentionレイヤ\n",
        "    \n",
        "    hidden_dim : Embeddingされた単語ベクトルの長さ\n",
        "    heads_num : マルチヘッドAttentionのヘッド数\n",
        "       ※hidden_numはheads_numで割り切れえる値とすること\n",
        "    drop_rate : 出力のDropout率\n",
        "\n",
        "    model = MultiheadAttention(\n",
        "        hidden_dim = 512,\n",
        "        head_num = 8,\n",
        "        drop_rate = 0.5\n",
        "    )\n",
        "    '''\n",
        "    def __init__(self, hidden_dim, heads_num, drop_rate=0.5):\n",
        "        super(MultiHeadAttention, self).__init__()\n",
        "        # 入力の線形変換\n",
        "        # 重み行列は[hidden_dim, hidden_dim]\n",
        "        self.query = Conv1D(hidden_dim, kernel_size=1)\n",
        "        self.key   = Conv1D(hidden_dim, kernel_size=1)\n",
        "        self.value = Conv1D(hidden_dim, kernel_size=1)\n",
        "        \n",
        "        # 出力の線形変換\n",
        "        self.projection = Conv1D(hidden_dim, kernel_size=1)\n",
        "        \n",
        "        # 出力のDropout\n",
        "        self.drop = Dropout(drop_rate)\n",
        "        \n",
        "        self.nf = hidden_dim\n",
        "        self.nh = heads_num\n",
        "    \n",
        "    def atten(self, query, key, value, attention_mask, training):\n",
        "        \"\"\"\n",
        "        Attention\n",
        "        \n",
        "        query, key, value : 入力\n",
        "        attention_mask : attention weight に適用される mask\n",
        "        \"\"\"\n",
        "        # 各値を取得\n",
        "        shape = query.shape.as_list()\n",
        "        batch_size = -1 if shape[0] is None else shape[0]\n",
        "        token_num = shape[2] # トークン列数\n",
        "        hidden_dim = shape[1]*shape[3] # 入力チャンネル数\n",
        "        \n",
        "        # ここで q と k の内積を取ることで、query と key の単語間の関連度のようなものを計算します。\n",
        "        # tf.matmulで最後の2成分について積を計算(それ以外は形がそろっている必要あり)\n",
        "        # transpose_bで転置\n",
        "        # [token_num, hidden_dim/head_num] @ [hidden_dim/head_num, token_num] = [token_num, token_num]\n",
        "        scores = tf.matmul(query, key, transpose_b=True)\n",
        "        \n",
        "        # scoreをhidden_dimの平方根割る\n",
        "        scores = tf.multiply(scores, tf.math.rsqrt(tf.cast(hidden_dim, tf.float32)))\n",
        "        \n",
        "        # Attention Maskがあればscoreに加算\n",
        "        # attention_mask: [batch_size, token_num, token_num] \n",
        "        # マスク(参照しない部分)の場所に1、使用する部分は0とする\n",
        "        # 0の部分を -無限大にする(softmax(-無限大)=0となる)\n",
        "        # 1. PADを無視\n",
        "        # 2. DecoderのSelf-Attentionで未来の情報を参照できないようにする\n",
        "        if attention_mask is not None:\n",
        "            scores += attention_mask * -1e9\n",
        "        # softmax を取ることで正規化します\n",
        "        # input(query) の各単語に対して memory(key) の各単語のどこから情報を引いてくるかの重み\n",
        "        atten_weight = tf.nn.softmax(scores)\n",
        "        \n",
        "        # 重みに従って value から情報を引いてきます\n",
        "        # [token_num, token_num] @ [token_num, hidden_dim/head_num] = [token_num, hidden_dim/head_num]\n",
        "        # input(query) の単語ごとに memory(value)の各単語 に attention_weight を掛け合わせて足し合わせた ベクトル(分散表現の重み付き和)を計算\n",
        "        context = tf.matmul(atten_weight, value)\n",
        "        \n",
        "        # 各ヘッドの結合(reshape)\n",
        "        # 入力と同じ形に変換する\n",
        "        context = tf.transpose(context, [0, 2, 1, 3])\n",
        "        context = tf.reshape(context, (batch_size, token_num, hidden_dim))\n",
        "        \n",
        "        # 線形変換\n",
        "        context = self.projection(context, training=training)\n",
        "        \n",
        "        return self.drop(context, training=training), atten_weight\n",
        "\n",
        "    def _split(self, x):\n",
        "        \"\"\"\n",
        "        query, key, valueを分割する\n",
        "        \n",
        "        入力 shape: [batch_size, length, hidden_dim] の時\n",
        "        出力 shape: [batch_size, head_num, length, hidden_dim//head_num]\n",
        "        \"\"\"\n",
        "        # 各値を取得\n",
        "        hidden_dim = self.nf\n",
        "        heads_num = self.nh\n",
        "        shape = x.shape.as_list()\n",
        "        batch_size = -1 if shape[0] is None else shape[0]\n",
        "        token_num = shape[1] # トークン列数\n",
        "        \n",
        "        # [batch_size, token_num, hidden_dim] -> [batch_size, token_num, head_num, hidden_dim/head_num]\n",
        "        # splitだが実際は次元を拡張する処理\n",
        "        x = tf.reshape(x, (batch_size, token_num, heads_num, int(hidden_dim/heads_num)))\n",
        "        \n",
        "        # [batch_size, token_num, head_num, hidden_dim/head_num] -> [batch_size, head_num, token_num, hidden_dim/head_num]\n",
        "        x = tf.transpose(x, [0, 2, 1, 3])\n",
        "        return x\n",
        "    \n",
        "    def call(self, x, training, memory=None, attention_mask=None, return_attention_scores=False):\n",
        "        \"\"\"\n",
        "        モデルの実行\n",
        "        \n",
        "        input : 入力(query) [batch_size, token_num, hidden_dim]\n",
        "        memory : 入力(key, value) [batch_size, token_num, hidden_dim]\n",
        "        attention_mask : attention weight に適用される mask\n",
        "            [batch_size, 1, q_length, k_length] \n",
        "            pad 等無視する部分が 1 となるようなもの(Decoderで使用)\n",
        "        return_attention_scores : attention weightを出力するか\n",
        "        \"\"\"\n",
        "        # memoryが入力されない場合、memory=input(Self Attention)とする\n",
        "        if memory is None:\n",
        "            memory = x\n",
        "        \n",
        "        # input -> query\n",
        "        # memory -> key, value\n",
        "        # [batch_size, token_num, hidden_dim] @ [hidden_dim, hidden_dim] -> [batch_size, token_num, hidden_dim] \n",
        "        query = self.query(x)\n",
        "        key = self.key(memory)\n",
        "        value = self.value(memory)\n",
        "        \n",
        "        # ヘッド数に分割する\n",
        "        # 実際はreshapeで次数を1つ増やす\n",
        "        # [batch_size, token_num, hidden_dim] -> [batch_size, head_num, token_num, hidden_dim/head_num]\n",
        "        query = self._split(query)\n",
        "        key = self._split(key)\n",
        "        value = self._split(value)\n",
        "        \n",
        "        # attention\n",
        "        # 入力と同じ形の出力\n",
        "        # context: [batch_size, token_num, hidden_dim]\n",
        "        # score_weightsはEncoderではNoneとする\n",
        "        context, attn_weights = self.atten(query, key, value, attention_mask, training)\n",
        "        if not return_attention_scores:\n",
        "            return context\n",
        "        else:\n",
        "            return context, attn_weights"
      ],
      "metadata": {
        "id": "9RPXok3koYWp"
      },
      "execution_count": 15,
      "outputs": []
    },
    {
      "cell_type": "code",
      "source": [
        "class FeedForwardNetwork(Layer):\n",
        "    '''\n",
        "    Position-wise Feedforward Neural Network\n",
        "    transformer blockで使用される全結合層\n",
        "    '''\n",
        "    def __init__(self, hidden_dim, drop_rate):\n",
        "        super().__init__()\n",
        "        # 2層構造\n",
        "        # 1層目：チャンネル数を増加させる\n",
        "        self.filter_dense_layer = Dense(hidden_dim * 4, use_bias=True, activation='relu')\n",
        "        \n",
        "        # 2層目：元のチャンネル数に戻す\n",
        "        self.output_dense_layer = Dense(hidden_dim, use_bias=True)\n",
        "        self.drop = Dropout(drop_rate)\n",
        "\n",
        "    def call(self, x, training):\n",
        "        '''\n",
        "        入力と出力で形が変わらない\n",
        "        [batch_size, token_num, hidden_dim]\n",
        "        '''\n",
        "        \n",
        "        # [batch_size, token_num, hidden_dim] -> [batch_size, token_num, 4*hidden_dim]\n",
        "        x = self.filter_dense_layer(x)\n",
        "        x = self.drop(x, training=training)\n",
        "        \n",
        "        # [batch_size, token_num, 4*hidden_dim] -> [batch_size, token_num, hidden_dim]\n",
        "        return self.output_dense_layer(x)"
      ],
      "metadata": {
        "id": "dDJg_3sMoajl"
      },
      "execution_count": 16,
      "outputs": []
    },
    {
      "cell_type": "code",
      "source": [
        "class ResidualNormalizationWrapper(Layer):\n",
        "    '''\n",
        "    残差接続\n",
        "    output: input + SubLayer(input)\n",
        "    '''\n",
        "    def __init__(self, layer, drop_rate):\n",
        "        super().__init__()\n",
        "        self.layer = layer # SubLayer : ここではAttentionかFFN\n",
        "        self.layer_normalization = LayerNormalization()\n",
        "        self.drop = Dropout(drop_rate)\n",
        "\n",
        "    def call(self, x, training, memory=None, attention_mask=None, return_attention_scores=None):\n",
        "        \"\"\"\n",
        "        AttentionもFFNも入力と出力で形が変わらない\n",
        "        [batch_size, token_num, hidden_dim]\n",
        "        \"\"\"\n",
        "        \n",
        "        params = {}\n",
        "        if memory is not None:\n",
        "            params['memory'] = memory\n",
        "        if attention_mask is not None:\n",
        "            params['attention_mask'] = attention_mask\n",
        "        if return_attention_scores:\n",
        "            params['return_attention_scores'] = return_attention_scores\n",
        "        \n",
        "        out = self.layer_normalization(x)\n",
        "        if return_attention_scores:\n",
        "            out, attn_weights = self.layer(out, training, **params)\n",
        "            out = self.drop(out, training=training)\n",
        "            return x + out, attn_weights\n",
        "        else:\n",
        "            out = self.layer(out, training, **params)\n",
        "            out = self.drop(out, training=training)\n",
        "            return x + out"
      ],
      "metadata": {
        "id": "96g6T8Ypoc71"
      },
      "execution_count": 17,
      "outputs": []
    },
    {
      "cell_type": "code",
      "source": [
        "class AddPositionalEncoding(Layer):\n",
        "    '''\n",
        "    入力テンソルに対し、位置の情報を付与して返すレイヤー\n",
        "    see: https://arxiv.org/pdf/1706.03762.pdf\n",
        "\n",
        "    PE_{pos, 2i}   = sin(pos / 10000^{2i / d_model})\n",
        "    PE_{pos, 2i+1} = cos(pos / 10000^{2i / d_model})\n",
        "    '''\n",
        "    def call(self, inputs):\n",
        "        fl_type = inputs.dtype\n",
        "        batch_size, max_length, depth = tf.unstack(tf.shape(inputs))\n",
        "\n",
        "        depth_counter = tf.range(depth) // 2 * 2  # 0, 0, 2, 2, 4, ...\n",
        "        depth_matrix = tf.tile(tf.expand_dims(depth_counter, 0), [max_length, 1])  # [max_length, depth]\n",
        "        depth_matrix = tf.pow(10000.0, tf.cast(depth_matrix / depth, fl_type))  # [max_length, depth]\n",
        "\n",
        "        # cos(x) == sin(x + π/2)\n",
        "        phase = tf.cast(tf.range(depth) % 2, fl_type) * math.pi / 2  # 0, π/2, 0, π/2, ...\n",
        "        phase_matrix = tf.tile(tf.expand_dims(phase, 0), [max_length, 1])  # [max_length, depth]\n",
        "\n",
        "        pos_counter = tf.range(max_length)\n",
        "        pos_matrix = tf.cast(tf.tile(tf.expand_dims(pos_counter, 1), [1, depth]), fl_type)  # [max_length, depth]\n",
        "\n",
        "        positional_encoding = tf.sin(pos_matrix / depth_matrix + phase_matrix)\n",
        "        # [batch_size, max_length, depth]\n",
        "        positional_encoding = tf.tile(tf.expand_dims(positional_encoding, 0), [batch_size, 1, 1])\n",
        "\n",
        "        return inputs + positional_encoding"
      ],
      "metadata": {
        "id": "TjiomhFMoe1n"
      },
      "execution_count": 18,
      "outputs": []
    },
    {
      "cell_type": "code",
      "source": [
        "import matplotlib.pyplot as plt\n",
        "\n",
        "layer = AddPositionalEncoding()\n",
        "test = tf.constant(np.random.rand(32,128,512), tf.float32)\n",
        "layer(test).shape\n",
        "\n",
        "plt.imshow(layer(test).numpy()[0]);"
      ],
      "metadata": {
        "colab": {
          "base_uri": "https://localhost:8080/",
          "height": 135
        },
        "id": "zguKQsYmohFh",
        "outputId": "36fc1844-9436-4b4d-e2e4-7660a6e6c0cc"
      },
      "execution_count": 19,
      "outputs": [
        {
          "output_type": "display_data",
          "data": {
            "text/plain": [
              "<Figure size 432x288 with 1 Axes>"
            ],
            "image/png": "[encoded data removed]"
          },
          "metadata": {
            "needs_background": "light"
          }
        }
      ]
    },
    {
      "cell_type": "code",
      "source": [
        "class TokenEmbedding(Layer):\n",
        "    def __init__(self, vocab_size, embedding_dim, embeddings=None, PAD_ID=0):\n",
        "        # vocab_size: 単語の総数\n",
        "        # embedding_dim: Embeddingの次数\n",
        "        super().__init__()\n",
        "        self.pad_id = PAD_ID\n",
        "        self.embedding_dim = embedding_dim\n",
        "        \n",
        "        self.embedding = Embedding(vocab_size, embedding_dim)\n",
        "        \n",
        "        if embeddings is None:\n",
        "            self.embedding = Embedding(input_dim=vocab_size,\n",
        "                                       output_dim=embedding_dim,\n",
        "                                       mask_zero=True,\n",
        "                                       trainable=True)\n",
        "        else:\n",
        "            self.embedding = Embedding(input_dim=embeddings.shape[0],\n",
        "                                       output_dim=embeddings.shape[1],\n",
        "                                       mask_zero=True,\n",
        "                                       trainable=True,\n",
        "                                       weights=[embeddings])\n",
        "\n",
        "    def call(self, x):\n",
        "        embedding = self.embedding(x)\n",
        "        return embedding * self.embedding_dim ** 0.5"
      ],
      "metadata": {
        "id": "gwwrL0XoolSQ"
      },
      "execution_count": 20,
      "outputs": []
    },
    {
      "cell_type": "code",
      "source": [
        "class TransformerBlock(Layer):\n",
        "    \"\"\"\n",
        "    transformer block : before ->[attention -> FF]-> next\n",
        "    それぞれ残差接続とLayerNormalizationの処理が含まれる\n",
        "    \"\"\"\n",
        "    def __init__(self, hidden_dim, heads_num, drop_rate=0.1):\n",
        "        \"\"\"\n",
        "        hidden_numはheads_numで割り切れえる値とすること\n",
        "        \"\"\"\n",
        "        super().__init__()\n",
        "        self.atten = ResidualNormalizationWrapper(\n",
        "            layer = MultiHeadAttention(hidden_dim = hidden_dim, heads_num = heads_num, drop_rate = drop_rate),\n",
        "            drop_rate = drop_rate)\n",
        "        \n",
        "        self.ffn = ResidualNormalizationWrapper(\n",
        "            layer = FeedForwardNetwork(hidden_dim = hidden_dim, drop_rate = drop_rate),\n",
        "            drop_rate = drop_rate)\n",
        "    \n",
        "    def call(self, input, training, memory=None, attention_mask=None, return_attention_scores=False):\n",
        "        \"\"\"\n",
        "        入力と出力で形式が変わらない\n",
        "        [batch_size, token_num, hidden_dim]\n",
        "        \"\"\"\n",
        "        \n",
        "        if return_attention_scores:\n",
        "            x, attn_weights = self.atten(input,training, memory, attention_mask, return_attention_scores)\n",
        "            x = self.ffn(x)\n",
        "            return x, attn_weights\n",
        "        else:\n",
        "            x = self.atten(input, training, memory, attention_mask, return_attention_scores)\n",
        "            x = self.ffn(x)\n",
        "            return x"
      ],
      "metadata": {
        "id": "Iv3942MgooH6"
      },
      "execution_count": 21,
      "outputs": []
    },
    {
      "cell_type": "code",
      "source": [
        "class Encoder(Layer):\n",
        "    '''\n",
        "    TransformerのEncoder\n",
        "    '''\n",
        "    def __init__(\n",
        "            self,\n",
        "            vocab_size, # 単語の総数\n",
        "            hopping_num, # Multi-head Attentionの繰り返し数\n",
        "            heads_num, # Multi-head Attentionのヘッド数\n",
        "            hidden_dim, # Embeddingの次数\n",
        "            token_num, # 系列長(文章中のトークン数)\n",
        "            drop_rate, # ドロップアウトの確率\n",
        "            embeddings=None\n",
        "    ):\n",
        "        super().__init__()\n",
        "        self.hopping_num = hopping_num\n",
        "        \n",
        "        # Embedding層\n",
        "        self.token_embedding = TokenEmbedding(vocab_size, hidden_dim, embeddings)\n",
        "        # Position Embedding\n",
        "        self.add_position_embedding = AddPositionalEncoding()\n",
        "        self.input_dropout_layer = Dropout(drop_rate)\n",
        "\n",
        "        # Multi-head Attentionの繰り返し(hopping)のリスト\n",
        "        self.attention_block_list = [TransformerBlock(hidden_dim, heads_num) for _ in range(hopping_num)]\n",
        "        self.output_normalization = LayerNormalization()\n",
        "\n",
        "    def call(\n",
        "            self,\n",
        "            input,\n",
        "            training,\n",
        "            memory=None,\n",
        "            attention_mask=None,\n",
        "            return_attention_scores=False\n",
        "    ):\n",
        "        '''\n",
        "        input: 入力 [batch_size, length]\n",
        "        memory: 入力 [batch_size, length]\n",
        "        attention_mask: attention weight に適用される mask\n",
        "            [batch_size, 1, q_length, k_length] \n",
        "            pad 等無視する部分が 0 となるようなもの(Decoderで使用)\n",
        "        return_attention_scores : attention weightを出力するか\n",
        "        出力 [batch_size, length, hidden_dim]\n",
        "        '''\n",
        "        # [batch_size, token_num] -> [batch_size, token_num, hidden_dim]\n",
        "        embedded_input = self.token_embedding(input)\n",
        "        # Positional Embedding\n",
        "        embedded_input = self.add_position_embedding(embedded_input)\n",
        "        query = self.input_dropout_layer(embedded_input, training=training)\n",
        "        \n",
        "        \n",
        "        if return_attention_scores:\n",
        "            # MultiHead Attentionを繰り返し適用\n",
        "            for i in range(self.hopping_num):\n",
        "                query, atten_weights = self.attention_block_list[i](query, training, memory, attention_mask, return_attention_scores)\n",
        "\n",
        "            # [batch_size, token_num, hidden_dim]\n",
        "            return self.output_normalization(query), atten_weights\n",
        "        else:\n",
        "            # MultiHead Attentionを繰り返し適用\n",
        "            for i in range(self.hopping_num):\n",
        "                query = self.attention_block_list[i](query, training, memory, attention_mask, return_attention_scores)\n",
        "\n",
        "            # [batch_size, token_num, hidden_dim]\n",
        "            return self.output_normalization(query)"
      ],
      "metadata": {
        "id": "0_AlVHLIorE3"
      },
      "execution_count": 22,
      "outputs": []
    },
    {
      "cell_type": "code",
      "source": [
        "class AttentionClassifier(Model):\n",
        "    def __init__(\n",
        "            self,\n",
        "            vocab_size, # 単語の総数\n",
        "            hopping_num, # Multi-head Attentionの繰り返し数\n",
        "            heads_num, # Multi-head Attentionのヘッド数\n",
        "            hidden_dim, # Embeddingの次数\n",
        "            token_num, # 系列長(文章中のトークン数)\n",
        "            drop_rate, # ドロップアウトの確率\n",
        "            NUMLABELS, # クラス数\n",
        "            embeddings = None,\n",
        "            PAD_ID = 0\n",
        "    ):\n",
        "        super().__init__()\n",
        "        self.PAD_ID = PAD_ID\n",
        "        \n",
        "        self.encoder = Encoder(vocab_size, hopping_num, heads_num, hidden_dim, token_num, drop_rate, embeddings)\n",
        "        self.dense1 = Dense(hidden_dim, activation='tanh')\n",
        "        self.dropout1 = Dropout(drop_rate)   \n",
        "        self.final_layer = Dense(NUMLABELS, activation='softmax')\n",
        "\n",
        "    def call(self, x, training, return_attention_scores=False):\n",
        "        self_attention_mask=self._create_enc_attention_mask(x)\n",
        "        \n",
        "        # [batch_size, token_num] -> [batch_size, token_num, hidden_dim]\n",
        "        if return_attention_scores:\n",
        "            enc_output, atten_weights = self.encoder(x, attention_mask=self_attention_mask,return_attention_scores=return_attention_scores)\n",
        "        else:\n",
        "            enc_output = self.encoder(x, attention_mask=self_attention_mask,return_attention_scores=return_attention_scores)\n",
        "        \n",
        "        # 文頭の重みを使用 [batch_size, 0, hidden_dim]\n",
        "        # [batch_size, hidden_dim] -> [batch_size, hidden_dim]\n",
        "        enc_output = self.dense1(enc_output[:, 0, :])\n",
        "        enc_output = self.dropout1(enc_output)\n",
        "        \n",
        "        # [batch_size, hidden_dim] -> [batch_size, NUMLABELS]\n",
        "        final_output = self.final_layer(enc_output)\n",
        "\n",
        "        if return_attention_scores:\n",
        "            return final_output, atten_weights\n",
        "        else:\n",
        "            return final_output\n",
        "    \n",
        "    def _create_enc_attention_mask(self, x):\n",
        "        batch_size, length = tf.unstack(tf.shape(x))\n",
        "        # マスクする部分を1とする\n",
        "        pad_array = tf.cast(tf.equal(x, self.PAD_ID), tf.float32)  # [batch_size, token_num]\n",
        "        \n",
        "        # shape broadcasting で [batch_size, head_num, token_num, token_num] になる\n",
        "        return tf.reshape(pad_array, [batch_size, 1, 1, length])"
      ],
      "metadata": {
        "id": "hokE-deMotYV"
      },
      "execution_count": 23,
      "outputs": []
    },
    {
      "cell_type": "code",
      "source": [
        "import re\n",
        "import pandas as pd\n",
        "from janome.tokenizer import Tokenizer\n",
        "j_t = Tokenizer(wakati=True)\n",
        "\n",
        "class Vocab(object):\n",
        "    def __init__(self):\n",
        "        self.w2i = {}\n",
        "        self.i2w = {}\n",
        "        self.special_chars = ['<pad>', '<s>', '</s>', '<unk>']\n",
        "        self.bos_char = self.special_chars[1]\n",
        "        self.eos_char = self.special_chars[2]\n",
        "        self.oov_char = self.special_chars[3]\n",
        "\n",
        "    def fit(self, sentences, path=None):\n",
        "        self._words = set()\n",
        "\n",
        "        #with open(path, 'r',encoding=\"utf-8\") as f:\n",
        "        #    sentences = f.read().splitlines()\n",
        "\n",
        "        for sentence in sentences:\n",
        "            #self._words.update(sentence.split())\n",
        "            self._words.update(sentence)\n",
        "\n",
        "        self.w2i = {w: (i + len(self.special_chars))\n",
        "                    for i, w in enumerate(self._words)}\n",
        "\n",
        "        for i, w in enumerate(self.special_chars):\n",
        "            self.w2i[w] = i\n",
        "\n",
        "        self.i2w = {i: w for w, i in self.w2i.items()}\n",
        "\n",
        "    def transform(self, sentences, path=None, bos=False, eos=False):\n",
        "        output = []\n",
        "\n",
        "        #with open(path, 'r',encoding=\"utf-8\") as f:\n",
        "        #    sentences = f.read().splitlines()\n",
        "\n",
        "        for sentence in sentences:\n",
        "            #sentence = sentence.split()\n",
        "            if bos:\n",
        "                sentence = [self.bos_char] + sentence\n",
        "            if eos:\n",
        "                sentence = sentence + [self.eos_char]\n",
        "            output.append(self.encode(sentence))\n",
        "\n",
        "        return output\n",
        "\n",
        "    def encode(self, sentence):\n",
        "        output = []\n",
        "\n",
        "        for w in sentence:\n",
        "            if w not in self.w2i:\n",
        "                idx = self.w2i[self.oov_char]\n",
        "            else:\n",
        "                idx = self.w2i[w]\n",
        "            output.append(idx)\n",
        "\n",
        "        return output\n",
        "\n",
        "    def decode(self, sentence):\n",
        "        return [self.i2w[id] for id in sentence]\n",
        "\n",
        "\n",
        "def tokenizer_janome(text):\n",
        "    return [tok for tok in j_t.tokenize(text, wakati=True)]\n",
        "\n",
        "def preprocessing_text(text):\n",
        "    text = re.sub('\\r', '', text)\n",
        "    text = re.sub('\\n', '', text)\n",
        "    text = re.sub('　', '', text)\n",
        "    #text = re.sub(' ', '', text)\n",
        "    \n",
        "    text = re.sub(r'[0-9 ０-９]', '0', text)\n",
        "    return text\n",
        "\n",
        "def tokenizer_with_preprocessing(text):\n",
        "    text = preprocessing_text(text)\n",
        "    ret = tokenizer_janome(text)\n",
        "    return ret"
      ],
      "metadata": {
        "id": "BNthMDrzowp1"
      },
      "execution_count": 24,
      "outputs": []
    },
    {
      "cell_type": "code",
      "source": [
        "from sklearn.model_selection import train_test_split\n",
        "\n",
        "path='reviews.csv'\n",
        "\n",
        "df = pd.read_csv(path)\n",
        "seq_row = df['Body']\n",
        "y = df['Rating2']\n",
        "\n",
        "seq = [tokenizer_with_preprocessing(text) for text in seq_row]\n",
        "\n",
        "x_train, x_test, y_train, y_test = train_test_split(seq, y, stratify=y)"
      ],
      "metadata": {
        "id": "ykW3V6UnozZn"
      },
      "execution_count": 25,
      "outputs": []
    },
    {
      "cell_type": "code",
      "source": [
        "vocab = Vocab()\n",
        "vocab.fit(x_train)\n",
        "\n",
        "x_id_train = vocab.transform(x_train, bos=True)\n",
        "x_id_test = vocab.transform(x_test, bos=True)"
      ],
      "metadata": {
        "id": "henUvP8npB8r"
      },
      "execution_count": 26,
      "outputs": []
    },
    {
      "cell_type": "code",
      "source": [
        "from tensorflow.keras.preprocessing.sequence import pad_sequences\n",
        "import tensorflow as tf\n",
        "import numpy as np"
      ],
      "metadata": {
        "id": "Z4lhWrzQpN1u"
      },
      "execution_count": 27,
      "outputs": []
    },
    {
      "cell_type": "code",
      "source": [
        "X_train = pad_sequences(x_id_train, padding='post', maxlen=64)\n",
        "y_train_oht = tf.one_hot(y_train, depth=2, dtype=tf.float32)\n",
        "\n",
        "X_train=tf.cast(X_train, tf.int32)"
      ],
      "metadata": {
        "id": "nIBHSO7CpQs_"
      },
      "execution_count": 28,
      "outputs": []
    },
    {
      "cell_type": "code",
      "source": [
        "model = AttentionClassifier(\n",
        "            vocab_size = len(vocab.i2w), # 単語の総数\n",
        "            hopping_num = 8, # Multi-head Attentionの繰り返し数\n",
        "            heads_num = 8, # Multi-head Attentionのヘッド数\n",
        "            hidden_dim = 512, # Embeddingの次数\n",
        "            drop_rate = 0.1, # ドロップアウトの確率\n",
        "            token_num = 128,\n",
        "            NUMLABELS = 2\n",
        "    )"
      ],
      "metadata": {
        "id": "LpXTLiafpSwx"
      },
      "execution_count": 130,
      "outputs": []
    },
    {
      "cell_type": "code",
      "source": [
        "from tensorflow.keras import optimizers\n",
        "from tensorflow.keras.callbacks import LearningRateScheduler\n",
        "import math\n",
        "\n",
        "criterion = tf.keras.losses.CategoricalCrossentropy()\n",
        "optimizer = optimizers.Adam(learning_rate=2e-4,\n",
        "                           beta_1=0.9, beta_2=0.999, amsgrad=True)\n",
        "\n",
        "def decay(epoch, steps=100):\n",
        "    initial_lrate = 2e-4\n",
        "    drop = 0.1\n",
        "    epochs_drop = 7\n",
        "    lrate = initial_lrate * math.pow(drop, math.floor((1+epoch)/epochs_drop))\n",
        "    return lrate\n",
        "\n",
        "lr_sc = LearningRateScheduler(decay, verbose=1)"
      ],
      "metadata": {
        "id": "CyFKplyRpVuq"
      },
      "execution_count": 131,
      "outputs": []
    },
    {
      "cell_type": "code",
      "source": [
        "model.compile(loss=criterion, optimizer=optimizer, metrics=['accuracy'])"
      ],
      "metadata": {
        "id": "SwHXHHY0pYIZ"
      },
      "execution_count": 132,
      "outputs": []
    },
    {
      "cell_type": "code",
      "source": [
        "history=model.fit(X_train, y_train_oht, batch_size=64, epochs=21, validation_split=0.2, callbacks=[lr_sc])"
      ],
      "metadata": {
        "colab": {
          "base_uri": "https://localhost:8080/"
        },
        "id": "nObSvhklpaKD",
        "outputId": "36b3d28b-02ae-4a9f-8872-6b748d119a49"
      },
      "execution_count": 133,
      "outputs": [
        {
          "output_type": "stream",
          "name": "stdout",
          "text": [
            "\n",
            "Epoch 1: LearningRateScheduler setting learning rate to 0.0002.\n",
            "Epoch 1/21\n",
            "48/48 [==============================] - 107s 2s/step - loss: 0.7585 - accuracy: 0.6934 - val_loss: 0.5518 - val_accuracy: 0.7510 - lr: 2.0000e-04\n",
            "\n",
            "Epoch 2: LearningRateScheduler setting learning rate to 0.0002.\n",
            "Epoch 2/21\n",
            "48/48 [==============================] - 90s 2s/step - loss: 0.5857 - accuracy: 0.7204 - val_loss: 0.6508 - val_accuracy: 0.7510 - lr: 2.0000e-04\n",
            "\n",
            "Epoch 3: LearningRateScheduler setting learning rate to 0.0002.\n",
            "Epoch 3/21\n",
            "48/48 [==============================] - 91s 2s/step - loss: 0.4798 - accuracy: 0.7781 - val_loss: 0.3142 - val_accuracy: 0.8709 - lr: 2.0000e-04\n",
            "\n",
            "Epoch 4: LearningRateScheduler setting learning rate to 0.0002.\n",
            "Epoch 4/21\n",
            "48/48 [==============================] - 91s 2s/step - loss: 0.2087 - accuracy: 0.9268 - val_loss: 0.2803 - val_accuracy: 0.8933 - lr: 2.0000e-04\n",
            "\n",
            "Epoch 5: LearningRateScheduler setting learning rate to 0.0002.\n",
            "Epoch 5/21\n",
            "48/48 [==============================] - 91s 2s/step - loss: 0.0915 - accuracy: 0.9700 - val_loss: 0.3132 - val_accuracy: 0.9130 - lr: 2.0000e-04\n",
            "\n",
            "Epoch 6: LearningRateScheduler setting learning rate to 0.0002.\n",
            "Epoch 6/21\n",
            "48/48 [==============================] - 91s 2s/step - loss: 0.0423 - accuracy: 0.9898 - val_loss: 0.3360 - val_accuracy: 0.9117 - lr: 2.0000e-04\n",
            "\n",
            "Epoch 7: LearningRateScheduler setting learning rate to 2e-05.\n",
            "Epoch 7/21\n",
            "48/48 [==============================] - 92s 2s/step - loss: 0.0185 - accuracy: 0.9967 - val_loss: 0.3411 - val_accuracy: 0.9130 - lr: 2.0000e-05\n",
            "\n",
            "Epoch 8: LearningRateScheduler setting learning rate to 2e-05.\n",
            "Epoch 8/21\n",
            "48/48 [==============================] - 94s 2s/step - loss: 0.0174 - accuracy: 0.9974 - val_loss: 0.3564 - val_accuracy: 0.9157 - lr: 2.0000e-05\n",
            "\n",
            "Epoch 9: LearningRateScheduler setting learning rate to 2e-05.\n",
            "Epoch 9/21\n",
            "48/48 [==============================] - 91s 2s/step - loss: 0.0152 - accuracy: 0.9977 - val_loss: 0.3700 - val_accuracy: 0.9144 - lr: 2.0000e-05\n",
            "\n",
            "Epoch 10: LearningRateScheduler setting learning rate to 2e-05.\n",
            "Epoch 10/21\n",
            "48/48 [==============================] - 91s 2s/step - loss: 0.0158 - accuracy: 0.9980 - val_loss: 0.3765 - val_accuracy: 0.9157 - lr: 2.0000e-05\n",
            "\n",
            "Epoch 11: LearningRateScheduler setting learning rate to 2e-05.\n",
            "Epoch 11/21\n",
            "48/48 [==============================] - 91s 2s/step - loss: 0.0137 - accuracy: 0.9980 - val_loss: 0.3830 - val_accuracy: 0.9130 - lr: 2.0000e-05\n",
            "\n",
            "Epoch 12: LearningRateScheduler setting learning rate to 2e-05.\n",
            "Epoch 12/21\n",
            "48/48 [==============================] - 91s 2s/step - loss: 0.0142 - accuracy: 0.9977 - val_loss: 0.3795 - val_accuracy: 0.9144 - lr: 2.0000e-05\n",
            "\n",
            "Epoch 13: LearningRateScheduler setting learning rate to 2e-05.\n",
            "Epoch 13/21\n",
            "48/48 [==============================] - 95s 2s/step - loss: 0.0134 - accuracy: 0.9980 - val_loss: 0.3899 - val_accuracy: 0.9144 - lr: 2.0000e-05\n",
            "\n",
            "Epoch 14: LearningRateScheduler setting learning rate to 2.0000000000000003e-06.\n",
            "Epoch 14/21\n",
            "48/48 [==============================] - 92s 2s/step - loss: 0.0134 - accuracy: 0.9980 - val_loss: 0.3901 - val_accuracy: 0.9144 - lr: 2.0000e-06\n",
            "\n",
            "Epoch 15: LearningRateScheduler setting learning rate to 2.0000000000000003e-06.\n",
            "Epoch 15/21\n",
            "48/48 [==============================] - 92s 2s/step - loss: 0.0132 - accuracy: 0.9980 - val_loss: 0.3911 - val_accuracy: 0.9144 - lr: 2.0000e-06\n",
            "\n",
            "Epoch 16: LearningRateScheduler setting learning rate to 2.0000000000000003e-06.\n",
            "Epoch 16/21\n",
            "48/48 [==============================] - 92s 2s/step - loss: 0.0134 - accuracy: 0.9980 - val_loss: 0.3916 - val_accuracy: 0.9144 - lr: 2.0000e-06\n",
            "\n",
            "Epoch 17: LearningRateScheduler setting learning rate to 2.0000000000000003e-06.\n",
            "Epoch 17/21\n",
            "48/48 [==============================] - 93s 2s/step - loss: 0.0131 - accuracy: 0.9980 - val_loss: 0.3921 - val_accuracy: 0.9130 - lr: 2.0000e-06\n",
            "\n",
            "Epoch 18: LearningRateScheduler setting learning rate to 2.0000000000000003e-06.\n",
            "Epoch 18/21\n",
            "48/48 [==============================] - 94s 2s/step - loss: 0.0124 - accuracy: 0.9980 - val_loss: 0.3924 - val_accuracy: 0.9130 - lr: 2.0000e-06\n",
            "\n",
            "Epoch 19: LearningRateScheduler setting learning rate to 2.0000000000000003e-06.\n",
            "Epoch 19/21\n",
            "48/48 [==============================] - 99s 2s/step - loss: 0.0139 - accuracy: 0.9980 - val_loss: 0.3932 - val_accuracy: 0.9130 - lr: 2.0000e-06\n",
            "\n",
            "Epoch 20: LearningRateScheduler setting learning rate to 2.0000000000000003e-06.\n",
            "Epoch 20/21\n",
            "48/48 [==============================] - 104s 2s/step - loss: 0.0137 - accuracy: 0.9980 - val_loss: 0.3937 - val_accuracy: 0.9117 - lr: 2.0000e-06\n",
            "\n",
            "Epoch 21: LearningRateScheduler setting learning rate to 2.0000000000000004e-07.\n",
            "Epoch 21/21\n",
            "48/48 [==============================] - 101s 2s/step - loss: 0.0125 - accuracy: 0.9980 - val_loss: 0.3938 - val_accuracy: 0.9117 - lr: 2.0000e-07\n"
          ]
        }
      ]
    },
    {
      "cell_type": "code",
      "source": [
        "model.save_weights('transformermodel.h5')"
      ],
      "metadata": {
        "id": "XTKWBqjoFrMs"
      },
      "execution_count": 134,
      "outputs": []
    },
    {
      "cell_type": "code",
      "source": [
        "X_test = pad_sequences(x_id_test, padding='post', maxlen=64)\n",
        "y_test_oht = tf.one_hot(y_test, depth=2, dtype=tf.float32)\n",
        "\n",
        "X_test=tf.cast(X_test, tf.int32)\n",
        "\n",
        "model.evaluate(X_test, y_test_oht)"
      ],
      "metadata": {
        "colab": {
          "base_uri": "https://localhost:8080/"
        },
        "id": "brT64_HGgWgS",
        "outputId": "cd5a4af1-6014-404e-e76f-a1597e8d183c"
      },
      "execution_count": 40,
      "outputs": [
        {
          "output_type": "stream",
          "name": "stdout",
          "text": [
            "40/40 [==============================] - 11s 268ms/step - loss: 0.5718 - accuracy: 0.9027\n"
          ]
        },
        {
          "output_type": "execute_result",
          "data": {
            "text/plain": [
              "[0.5717887878417969, 0.9026898741722107]"
            ]
          },
          "metadata": {},
          "execution_count": 40
        }
      ]
    },
    {
      "cell_type": "code",
      "source": [
        "from IPython.display import HTML\n",
        "from IPython.display import HTML, display\n",
        "\n",
        "def mk_html(index, batch, preds, normlized_weights, vocab, labels=[\"Negative\", \"Positive\"]):\n",
        "    \"HTMLデータを作成する\"\n",
        "\n",
        "    # indexの結果を抽出\n",
        "    sentence = batch[0][index]  # 文章\n",
        "    label = batch[1][index] # ラベル\n",
        "    pred = preds[index]  # 予測\n",
        "    # ラベルと予測結果を文字に置き換え\n",
        "    label_str = labels[label]\n",
        "    pred_str = labels[pred]\n",
        "    # 表示用のHTMLを作成する\n",
        "    html = '正解ラベル：{}<br>推論ラベル：{}<br><br>'.format(label_str, pred_str)\n",
        "\n",
        "    # 12種類のAttentionの平均を求める。最大値で規格化\n",
        "    all_attens = normlized_weights[0, :, 0, :].sum(axis=0)*0  # all_attensという変数を作成する\n",
        "    all_attens = np.sum(normlized_weights[index, :, 0, :], axis=0)\n",
        "    all_attens = (all_attens -all_attens.min()) /  (all_attens.max()-all_attens.min())\n",
        "\n",
        "    html += '[BERTのAttentionを可視化_ALL]<br>'\n",
        "    for word, attn in zip(sentence, all_attens):\n",
        "        # 単語が[SEP]の場合は文章が終わりなのでbreak\n",
        "        if vocab.decode([word.numpy().tolist()])[0] == \"[SEP]\":\n",
        "            break\n",
        "\n",
        "        # 関数highlightで色をつける、関数tokenizer_bert.convert_ids_to_tokensでIDを単語に戻す\n",
        "        html += highlight(vocab.decode(\n",
        "            [word.numpy().tolist()])[0], attn)\n",
        "    html += \"<br><br>\"\n",
        "\n",
        "    return html\n",
        "\n",
        "def highlight(word, attn):\n",
        "    \"Attentionの値が大きいと文字の背景が濃い赤になるhtmlを出力させる関数\"\n",
        "\n",
        "    html_color = '#%02X%02X%02X' % (\n",
        "        255, int(255*(1 - attn)), int(255*(1 - attn)))\n",
        "    return '<span style=\"background-color: {}\"> {}</span>'.format(html_color, word)"
      ],
      "metadata": {
        "id": "me5Kpq62gpnU"
      },
      "execution_count": 106,
      "outputs": []
    },
    {
      "cell_type": "code",
      "source": [
        "def make_html(preds, batch, labels=[\"Negative\", \"Positive\"]):\n",
        "  html_output = [mk_html(index=idx,\n",
        "                         batch=batch, \n",
        "                         preds=np.argmax(preds, axis=1),\n",
        "                         normlized_weights=atten.numpy(),\n",
        "                         vocab=vocab,\n",
        "                         labels=labels) for idx in np.arange(len(preds))]\n",
        "  return  html_output"
      ],
      "metadata": {
        "id": "tcfmIda9llku"
      },
      "execution_count": 107,
      "outputs": []
    },
    {
      "cell_type": "code",
      "source": [
        "# Plot training & validation accuracy values\n",
        "plt.plot(history.history['accuracy'])\n",
        "plt.plot(history.history['val_accuracy'])\n",
        "plt.title('Model accuracy')\n",
        "plt.ylabel('Accuracy')\n",
        "plt.xlabel('Epoch')\n",
        "plt.legend(['Train', 'Test'], loc='upper left')\n",
        "plt.show()\n",
        "\n",
        "# Plot training & validation loss values\n",
        "plt.plot(history.history['loss'])\n",
        "plt.plot(history.history['val_loss'])\n",
        "plt.title('Model loss')\n",
        "plt.ylabel('Loss')\n",
        "plt.xlabel('Epoch')\n",
        "plt.legend(['Train', 'Test'], loc='upper left')\n",
        "plt.show()"
      ],
      "metadata": {
        "colab": {
          "base_uri": "https://localhost:8080/",
          "height": 573
        },
        "id": "mPOMZD8Rm7Kh",
        "outputId": "40598a30-693d-4fd8-a0fd-bd1972c2636b"
      },
      "execution_count": 139,
      "outputs": [
        {
          "output_type": "display_data",
          "data": {
            "text/plain": [
              "<Figure size 432x288 with 1 Axes>"
            ],
            "image/png": "[encoded data removed]"
          },
          "metadata": {
            "needs_background": "light"
          }
        },
        {
          "output_type": "display_data",
          "data": {
            "text/plain": [
              "<Figure size 432x288 with 1 Axes>"
            ],
            "image/png": "[encoded data removed]"
          },
          "metadata": {
            "needs_background": "light"
          }
        }
      ]
    },
    {
      "cell_type": "code",
      "source": [
        "preds, atten = model(X_test, return_attention_scores=True)"
      ],
      "metadata": {
        "id": "Cm77XkiEneo6"
      },
      "execution_count": 140,
      "outputs": []
    },
    {
      "cell_type": "code",
      "source": [
        "html_results = make_html(preds, batch=(X_test, np.array(y_test)), labels=[\"Negative\", \"Positive\"])"
      ],
      "metadata": {
        "id": "ALyw0mbxnwR5"
      },
      "execution_count": 141,
      "outputs": []
    },
    {
      "cell_type": "code",
      "source": [
        "HTML(html_results[613])"
      ],
      "metadata": {
        "colab": {
          "base_uri": "https://localhost:8080/",
          "height": 139
        },
        "id": "84KHV9z9wfJU",
        "outputId": "085a5516-2c40-4539-b15b-dca2395aee4a"
      },
      "execution_count": 143,
      "outputs": [
        {
          "output_type": "execute_result",
          "data": {
            "text/plain": [
              "<IPython.core.display.HTML object>"
            ],
            "text/html": [
              "正解ラベル：Positive<br>推論ラベル：Positive<br><br>[BERTのAttentionを可視化_ALL]<br><span style=\"background-color: #FFA0A0\"> 。</span><span style=\"background-color: #FFA2A2\"> 肉</span><span style=\"background-color: #FFAFAF\"> 厚</span><span style=\"background-color: #FF5454\"> で</span><span style=\"background-color: #FFA2A2\"> ボリューム</span><span style=\"background-color: #FF8484\"> も</span><span style=\"background-color: #FF5151\"> あり</span><span style=\"background-color: #FFB8B8\"> 、</span><span style=\"background-color: #FFFFFF\"> 味</span><span style=\"background-color: #FFD0D0\"> も</span><span style=\"background-color: #FF9494\"> 言う</span><span style=\"background-color: #FFB8B8\"> こと</span><span style=\"background-color: #FF6C6C\"> あり</span><span style=\"background-color: #FF4D4D\"> ませ</span><span style=\"background-color: #FFA7A7\"> ん</span><span style=\"background-color: #FF2323\"> ！</span><span style=\"background-color: #FF9090\"> 串</span><span style=\"background-color: #FF6666\"> 揚げ</span><span style=\"background-color: #FF4545\"> や</span><span style=\"background-color: #FFB0B0\"> サラダ</span><span style=\"background-color: #FF9494\"> も</span><span style=\"background-color: #FF7878\"> おいしい</span><span style=\"background-color: #FF5B5B\"> ♪</span><span style=\"background-color: #FF6969\"> これ</span><span style=\"background-color: #FF0000\"> で</span><span style=\"background-color: #FF2828\"> この</span><span style=\"background-color: #FF3B3B\"> 価格</span><span style=\"background-color: #FF6B6B\"> ...</span><span style=\"background-color: #FF5858\"> コスパ</span><span style=\"background-color: #FFACAC\"> 良</span><span style=\"background-color: #FF7C7C\"> すぎ</span><span style=\"background-color: #FFA8A8\"> です</span><span style=\"background-color: #FF0A0A\"> ！</span><span style=\"background-color: #FF8080\"> ワイン</span><span style=\"background-color: #FF4747\"> を</span><span style=\"background-color: #FF0B0B\"> ボトル</span><span style=\"background-color: #FF1C1C\"> で</span><span style=\"background-color: #FFA8A8\"> 頼ん</span><span style=\"background-color: #FF2727\"> だ</span><span style=\"background-color: #FF5656\"> こと</span><span style=\"background-color: #FF6B6B\"> も</span><span style=\"background-color: #FF4747\"> あっ</span><span style=\"background-color: #FF7E7E\"> て</span><span style=\"background-color: #FF0000\"> かなり</span><span style=\"background-color: #FF4C4C\"> 安く</span><span style=\"background-color: #FF3838\"> 済ん</span><span style=\"background-color: #FF2929\"> で</span><span style=\"background-color: #FF8383\"> 、</span><span style=\"background-color: #FF7878\"> この</span><span style=\"background-color: #FF7878\"> 満足</span><span style=\"background-color: #FF6767\"> 感</span><span style=\"background-color: #FF5050\"> 。</span><span style=\"background-color: #FFD0D0\"> とても</span><span style=\"background-color: #FF9292\"> いい</span><span style=\"background-color: #FF5757\"> お</span><span style=\"background-color: #FF3939\"> 店</span><span style=\"background-color: #FF5858\"> を</span><span style=\"background-color: #FF6666\"> 知る</span><span style=\"background-color: #FF6A6A\"> こと</span><span style=\"background-color: #FF1212\"> が</span><span style=\"background-color: #FF3838\"> でき</span><span style=\"background-color: #FF3939\"> まし</span><span style=\"background-color: #FF6B6B\"> た</span><span style=\"background-color: #FF1111\"> ♪</span><br><br>"
            ]
          },
          "metadata": {},
          "execution_count": 143
        }
      ]
    },
    {
      "cell_type": "code",
      "source": [
        "f = open('myfile.txt', 'x')\n",
        "\n",
        "f.writelines(html_results)\n",
        "\n",
        "f.close()"
      ],
      "metadata": {
        "id": "F3cAeNUnITI5"
      },
      "execution_count": 144,
      "outputs": []
    }
  ]
}