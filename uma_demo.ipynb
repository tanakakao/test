{
  "nbformat": 4,
  "nbformat_minor": 5,
  "metadata": {
    "kernelspec": {
      "display_name": "Python 3",
      "language": "python",
      "name": "python3"
    },
    "language_info": {
      "codemirror_mode": {
        "name": "ipython",
        "version": 3
      },
      "file_extension": ".py",
      "mimetype": "text/x-python",
      "name": "python",
      "nbconvert_exporter": "python",
      "pygments_lexer": "ipython3",
      "version": "3.8.5"
    },
    "colab": {
      "name": "uma_demo.ipynb",
      "provenance": [],
      "collapsed_sections": [],
      "include_colab_link": true
    }
  },
  "cells": [
    {
      "cell_type": "markdown",
      "metadata": {
        "id": "view-in-github",
        "colab_type": "text"
      },
      "source": [
        "<a href=\"https://colab.research.google.com/github/tanakakao/test/blob/main/uma_demo.ipynb\" target=\"_parent\"><img src=\"https://colab.research.google.com/assets/colab-badge.svg\" alt=\"Open In Colab\"/></a>"
      ]
    },
    {
      "cell_type": "code",
      "metadata": {
        "id": "synthetic-consciousness"
      },
      "source": [
        "\n",
        "import pandas as pd\n",
        "from sklearn.metrics import r2_score"
      ],
      "id": "synthetic-consciousness",
      "execution_count": null,
      "outputs": []
    },
    {
      "cell_type": "code",
      "metadata": {
        "id": "mediterranean-princeton"
      },
      "source": [
        "race_results = pd.concat([pd.read_csv('C:/Users/tanak/Downloads/result_year-20210621T041551Z-001/result_year/race_result_'+str(year)+'.csv') for year in range(2016,2020)])\n",
        "race_infos = pd.concat([pd.read_csv('C:/Users/tanak/Downloads/race_info-20210621T041556Z-001/race_info/race_info_'+str(year)+'.csv') for year in range(2016,2020)])"
      ],
      "id": "mediterranean-princeton",
      "execution_count": null,
      "outputs": []
    },
    {
      "cell_type": "code",
      "metadata": {
        "id": "greek-butler"
      },
      "source": [
        "test_results = pd.read_csv('C:/Users/tanak/Downloads/result_year-20210621T041551Z-001/result_year/race_result_2020.csv')\n",
        "test_infos = pd.read_csv('C:/Users/tanak/Downloads/race_info-20210621T041556Z-001/race_info/race_info_2020.csv')"
      ],
      "id": "greek-butler",
      "execution_count": null,
      "outputs": []
    },
    {
      "cell_type": "code",
      "metadata": {
        "id": "employed-crime",
        "outputId": "d5168a66-ba5c-47d4-e66b-f158d9be59c4"
      },
      "source": [
        "race_results.head()"
      ],
      "id": "employed-crime",
      "execution_count": null,
      "outputs": [
        {
          "output_type": "execute_result",
          "data": {
            "text/html": [
              "<div>\n",
              "<style scoped>\n",
              "    .dataframe tbody tr th:only-of-type {\n",
              "        vertical-align: middle;\n",
              "    }\n",
              "\n",
              "    .dataframe tbody tr th {\n",
              "        vertical-align: top;\n",
              "    }\n",
              "\n",
              "    .dataframe thead th {\n",
              "        text-align: right;\n",
              "    }\n",
              "</style>\n",
              "<table border=\"1\" class=\"dataframe\">\n",
              "  <thead>\n",
              "    <tr style=\"text-align: right;\">\n",
              "      <th></th>\n",
              "      <th>レースID</th>\n",
              "      <th>着順</th>\n",
              "      <th>枠番</th>\n",
              "      <th>馬番</th>\n",
              "      <th>馬名</th>\n",
              "      <th>馬ID</th>\n",
              "      <th>性齢</th>\n",
              "      <th>斤量</th>\n",
              "      <th>騎手</th>\n",
              "      <th>調教師</th>\n",
              "      <th>馬主</th>\n",
              "      <th>タイム</th>\n",
              "      <th>着差</th>\n",
              "      <th>通過</th>\n",
              "      <th>上り</th>\n",
              "      <th>単勝</th>\n",
              "      <th>人気</th>\n",
              "      <th>馬体重</th>\n",
              "      <th>馬体重増減</th>\n",
              "    </tr>\n",
              "  </thead>\n",
              "  <tbody>\n",
              "    <tr>\n",
              "      <th>0</th>\n",
              "      <td>201601010101</td>\n",
              "      <td>1</td>\n",
              "      <td>6</td>\n",
              "      <td>6</td>\n",
              "      <td>ニシノキララコ</td>\n",
              "      <td>2014102322</td>\n",
              "      <td>牝2</td>\n",
              "      <td>52.0</td>\n",
              "      <td>井上敏樹</td>\n",
              "      <td>[東] 萱野浩二</td>\n",
              "      <td>西山茂行</td>\n",
              "      <td>1:50.5</td>\n",
              "      <td>NaN</td>\n",
              "      <td>5-5-6-4_</td>\n",
              "      <td>35.3</td>\n",
              "      <td>49.6</td>\n",
              "      <td>8.0</td>\n",
              "      <td>434</td>\n",
              "      <td>-4</td>\n",
              "    </tr>\n",
              "    <tr>\n",
              "      <th>1</th>\n",
              "      <td>201601010101</td>\n",
              "      <td>2</td>\n",
              "      <td>2</td>\n",
              "      <td>2</td>\n",
              "      <td>ユノディエール</td>\n",
              "      <td>2014105971</td>\n",
              "      <td>牡2</td>\n",
              "      <td>54.0</td>\n",
              "      <td>四位洋文</td>\n",
              "      <td>[西] 岡田稲男</td>\n",
              "      <td>ＫＴレーシング</td>\n",
              "      <td>1:50.8</td>\n",
              "      <td>2_</td>\n",
              "      <td>8-7-7-6_</td>\n",
              "      <td>35.3</td>\n",
              "      <td>29.6</td>\n",
              "      <td>7.0</td>\n",
              "      <td>438</td>\n",
              "      <td>-2</td>\n",
              "    </tr>\n",
              "    <tr>\n",
              "      <th>2</th>\n",
              "      <td>201601010101</td>\n",
              "      <td>3</td>\n",
              "      <td>5</td>\n",
              "      <td>5</td>\n",
              "      <td>マイネルヘミニス</td>\n",
              "      <td>2014100723</td>\n",
              "      <td>牡2</td>\n",
              "      <td>54.0</td>\n",
              "      <td>丹内祐次</td>\n",
              "      <td>[東] 高橋祥泰</td>\n",
              "      <td>サラブレッドクラブ・ラフィアン</td>\n",
              "      <td>1:51.1</td>\n",
              "      <td>1.1/2_</td>\n",
              "      <td>1-1-1-1_</td>\n",
              "      <td>36.4</td>\n",
              "      <td>12.4</td>\n",
              "      <td>4.0</td>\n",
              "      <td>458</td>\n",
              "      <td>-2</td>\n",
              "    </tr>\n",
              "    <tr>\n",
              "      <th>3</th>\n",
              "      <td>201601010101</td>\n",
              "      <td>4</td>\n",
              "      <td>4</td>\n",
              "      <td>4</td>\n",
              "      <td>プラチナヴォイス</td>\n",
              "      <td>2014105192</td>\n",
              "      <td>牡2</td>\n",
              "      <td>51.0</td>\n",
              "      <td>坂井瑠星</td>\n",
              "      <td>[西] 鮫島一歩</td>\n",
              "      <td>本間茂</td>\n",
              "      <td>1:51.1</td>\n",
              "      <td>アタマ_</td>\n",
              "      <td>3-3-3-2_</td>\n",
              "      <td>36.2</td>\n",
              "      <td>4.2</td>\n",
              "      <td>2.0</td>\n",
              "      <td>500</td>\n",
              "      <td>-4</td>\n",
              "    </tr>\n",
              "    <tr>\n",
              "      <th>4</th>\n",
              "      <td>201601010101</td>\n",
              "      <td>5</td>\n",
              "      <td>3</td>\n",
              "      <td>3</td>\n",
              "      <td>スピリットソウル</td>\n",
              "      <td>2014106056</td>\n",
              "      <td>牡2</td>\n",
              "      <td>54.0</td>\n",
              "      <td>福永祐一</td>\n",
              "      <td>[西] 大久保龍</td>\n",
              "      <td>落合幸弘</td>\n",
              "      <td>1:51.1</td>\n",
              "      <td>クビ_</td>\n",
              "      <td>2-2-3-2_</td>\n",
              "      <td>36.2</td>\n",
              "      <td>1.7</td>\n",
              "      <td>1.0</td>\n",
              "      <td>468</td>\n",
              "      <td>2</td>\n",
              "    </tr>\n",
              "  </tbody>\n",
              "</table>\n",
              "</div>"
            ],
            "text/plain": [
              "          レースID 着順  枠番  馬番        馬名         馬ID  性齢    斤量    騎手       調教師  \\\n",
              "0  201601010101  1   6   6   ニシノキララコ  2014102322  牝2  52.0  井上敏樹  [東] 萱野浩二   \n",
              "1  201601010101  2   2   2   ユノディエール  2014105971  牡2  54.0  四位洋文  [西] 岡田稲男   \n",
              "2  201601010101  3   5   5  マイネルヘミニス  2014100723  牡2  54.0  丹内祐次  [東] 高橋祥泰   \n",
              "3  201601010101  4   4   4  プラチナヴォイス  2014105192  牡2  51.0  坂井瑠星  [西] 鮫島一歩   \n",
              "4  201601010101  5   3   3  スピリットソウル  2014106056  牡2  54.0  福永祐一  [西] 大久保龍   \n",
              "\n",
              "                馬主     タイム      着差        通過    上り    単勝   人気  馬体重  馬体重増減  \n",
              "0             西山茂行  1:50.5     NaN  5-5-6-4_  35.3  49.6  8.0  434     -4  \n",
              "1          ＫＴレーシング  1:50.8      2_  8-7-7-6_  35.3  29.6  7.0  438     -2  \n",
              "2  サラブレッドクラブ・ラフィアン  1:51.1  1.1/2_  1-1-1-1_  36.4  12.4  4.0  458     -2  \n",
              "3              本間茂  1:51.1    アタマ_  3-3-3-2_  36.2   4.2  2.0  500     -4  \n",
              "4             落合幸弘  1:51.1     クビ_  2-2-3-2_  36.2   1.7  1.0  468      2  "
            ]
          },
          "metadata": {
            "tags": []
          },
          "execution_count": 237
        }
      ]
    },
    {
      "cell_type": "code",
      "metadata": {
        "id": "animal-effectiveness"
      },
      "source": [
        "def preprocess(df_results, df_info):\n",
        "    race_info_results = pd.merge(df_results[['レースID', '枠番', '馬番', '性齢','斤量', 'タイム', '単勝', '人気', '馬体重', '馬体重増減']], df_info[['レースID', 'コース名', 'レース番号', 'コース', '距離', '左右', '馬場状態', '天候']], on='レースID', how='left')\n",
        "    race_info_results = race_info_results.loc[(race_info_results['コース']!='障')&(race_info_results['コース']!='障芝ダート'),:]\n",
        "    race_info_results = race_info_results.loc[race_info_results['左右']!='直線',:]\n",
        "    race_info_results = race_info_results.loc[~(race_info_results['人気'].isna()),:]\n",
        "    race_info_results = race_info_results.loc[(race_info_results['馬体重']!='計不'),:]\n",
        "    race_info_results = race_info_results.loc[~(race_info_results['タイム'].isna()),:]\n",
        "    race_info_results['年齢'] = race_info_results['性齢'].str.extract('(\\d+)')\n",
        "    race_info_results['性別'] = race_info_results['性齢'].str.extract('(.)\\d+')\n",
        "    race_info_results['左右'] = race_info_results['左右'].str.extract('(.)?')\n",
        "\n",
        "    time_calc = race_info_results['タイム'].str.split(':', expand=True)\n",
        "    time_sec = time_calc[0].astype('float')*60 + time_calc[1].astype('float')\n",
        "    race_info_results['タイム'] = time_sec\n",
        "\n",
        "    race_info_results[['単勝','馬体重','年齢']] = race_info_results[['単勝','馬体重','年齢']].astype('float')\n",
        "    race_info_results = race_info_results.drop(['レースID','性齢'], axis=1)\n",
        "\n",
        "    race_results_dummies = pd.get_dummies(race_info_results, drop_first=True)\n",
        "    return race_results_dummies"
      ],
      "id": "animal-effectiveness",
      "execution_count": null,
      "outputs": []
    },
    {
      "cell_type": "code",
      "metadata": {
        "id": "chief-sociology"
      },
      "source": [
        "race_results_dummies = preprocess(race_results, race_infos)"
      ],
      "id": "chief-sociology",
      "execution_count": null,
      "outputs": []
    },
    {
      "cell_type": "code",
      "metadata": {
        "id": "sonic-appearance"
      },
      "source": [
        "test_results_dummies = preprocess(test_results, test_infos)"
      ],
      "id": "sonic-appearance",
      "execution_count": null,
      "outputs": []
    },
    {
      "cell_type": "code",
      "metadata": {
        "id": "listed-housing"
      },
      "source": [
        "from sklearn.linear_model import LinearRegression\n",
        "\n",
        "X = race_results_dummies[['枠番', '馬番', '斤量', '単勝', '人気', '馬体重', '馬体重増減', 'レース番号', '距離',\n",
        "       '年齢', 'コース名_中山', 'コース名_京都', 'コース名_函館', 'コース名_小倉', 'コース名_新潟', 'コース名_札幌',\n",
        "       'コース名_東京', 'コース名_福島', 'コース名_阪神', 'コース_芝', '左右_左', '馬場状態_稍重', '馬場状態_良',\n",
        "       '馬場状態_重', '天候_小雪', '天候_晴', '天候_曇', '天候_雨', '天候_雪', '性別_牝', '性別_牡']]\n",
        "\n",
        "y = race_results_dummies['タイム']\n",
        "\n",
        "regression = LinearRegression()\n",
        "model = regression.fit(X, y)"
      ],
      "id": "listed-housing",
      "execution_count": null,
      "outputs": []
    },
    {
      "cell_type": "code",
      "metadata": {
        "id": "acute-craps",
        "outputId": "fa5add30-7b73-4ec2-a281-c1e230ef00c5"
      },
      "source": [
        "import matplotlib.pyplot as plt\n",
        "\n",
        "plt.scatter(y, model.predict(X))\n",
        "plt.plot(y, y, 'red')"
      ],
      "id": "acute-craps",
      "execution_count": null,
      "outputs": [
        {
          "output_type": "execute_result",
          "data": {
            "text/plain": [
              "[<matplotlib.lines.Line2D at 0x2456efee160>]"
            ]
          },
          "metadata": {
            "tags": []
          },
          "execution_count": 243
        },
        {
          "output_type": "display_data",
          "data": {
            "image/png": "[encoded data removed]",
            "text/plain": [
              "<Figure size 432x288 with 1 Axes>"
            ]
          },
          "metadata": {
            "tags": [],
            "needs_background": "light"
          }
        }
      ]
    },
    {
      "cell_type": "code",
      "metadata": {
        "id": "capable-mount"
      },
      "source": [
        "X_test = test_results_dummies[['枠番', '馬番', '斤量', '単勝', '人気', '馬体重', '馬体重増減', 'レース番号', '距離',\n",
        "       '年齢', 'コース名_中山', 'コース名_京都', 'コース名_函館', 'コース名_小倉', 'コース名_新潟', 'コース名_札幌',\n",
        "       'コース名_東京', 'コース名_福島', 'コース名_阪神', 'コース_芝', '左右_左', '馬場状態_稍重', '馬場状態_良',\n",
        "       '馬場状態_重', '天候_小雪', '天候_晴', '天候_曇', '天候_雨', '天候_雪', '性別_牝', '性別_牡']]\n",
        "\n",
        "y_test = test_results_dummies['タイム']"
      ],
      "id": "capable-mount",
      "execution_count": null,
      "outputs": []
    },
    {
      "cell_type": "code",
      "metadata": {
        "id": "identical-singing",
        "outputId": "ad124ee3-1afc-4a1a-e882-c0f7a861dece"
      },
      "source": [
        "import matplotlib.pyplot as plt\n",
        "\n",
        "plt.scatter(y_test, model.predict(X_test))\n",
        "plt.plot(y_test, y_test, 'red')"
      ],
      "id": "identical-singing",
      "execution_count": null,
      "outputs": [
        {
          "output_type": "execute_result",
          "data": {
            "text/plain": [
              "[<matplotlib.lines.Line2D at 0x2456f43d640>]"
            ]
          },
          "metadata": {
            "tags": []
          },
          "execution_count": 245
        },
        {
          "output_type": "display_data",
          "data": {
            "image/png": "[encoded data removed]",
            "text/plain": [
              "<Figure size 432x288 with 1 Axes>"
            ]
          },
          "metadata": {
            "tags": [],
            "needs_background": "light"
          }
        }
      ]
    },
    {
      "cell_type": "code",
      "metadata": {
        "id": "french-addition",
        "outputId": "8b1dc47c-bad9-425c-c150-c4c8db7bd346"
      },
      "source": [
        "from sklearn.metrics import mean_squared_error\n",
        "\n",
        "print(mean_squared_error(y, model.predict(X)))\n",
        "print(mean_squared_error(y_test, model.predict(X_test)))"
      ],
      "id": "french-addition",
      "execution_count": null,
      "outputs": [
        {
          "output_type": "stream",
          "text": [
            "3.5066899838591725\n",
            "4.220612725961075\n"
          ],
          "name": "stdout"
        }
      ]
    },
    {
      "cell_type": "code",
      "metadata": {
        "id": "deluxe-columbia",
        "outputId": "30a7a8b5-631d-4c3b-c92d-dfc293ce3c7b"
      },
      "source": [
        "import japanize_matplotlib\n",
        "\n",
        "plt.figure(figsize=(8,4))\n",
        "\n",
        "plt.bar(X.columns, model.coef_);\n",
        "plt.xticks(rotation=90);"
      ],
      "id": "deluxe-columbia",
      "execution_count": null,
      "outputs": [
        {
          "output_type": "display_data",
          "data": {
            "image/png": "[encoded data removed]",
            "text/plain": [
              "<Figure size 576x288 with 1 Axes>"
            ]
          },
          "metadata": {
            "tags": [],
            "needs_background": "light"
          }
        }
      ]
    },
    {
      "cell_type": "code",
      "metadata": {
        "id": "excess-discovery"
      },
      "source": [
        "from sklearn.model_selection import train_test_split\n",
        "\n",
        "X_train, X_val, y_train, y_val = train_test_split(X, y)"
      ],
      "id": "excess-discovery",
      "execution_count": null,
      "outputs": []
    },
    {
      "cell_type": "code",
      "metadata": {
        "id": "awful-diving"
      },
      "source": [
        "import xgboost as xgb\n",
        "from sklearn.metrics import log_loss\n",
        "\n",
        "dtrain = xgb.DMatrix(X_train, label=y_train)\n",
        "dvalid = xgb.DMatrix(X_val, label=y_val)\n",
        "dtest = xgb.DMatrix(X_test, label=y_test)"
      ],
      "id": "awful-diving",
      "execution_count": null,
      "outputs": []
    },
    {
      "cell_type": "code",
      "metadata": {
        "id": "knowing-target",
        "outputId": "52ba0557-be4e-44de-e23a-c5edbe24d6ea"
      },
      "source": [
        "from sklearn.metrics import mean_squared_error\n",
        "\n",
        "params = {'booster': 'gbtree',\n",
        "         'objective': 'reg:squarederror'}\n",
        "num_round = 100\n",
        "\n",
        "watchlist = [(dtrain, 'train'), (dvalid, 'eval')]\n",
        "model = xgb.train(params, dtrain, num_round, evals=watchlist, early_stopping_rounds=20)\n",
        "\n",
        "va_pred = model.predict(dvalid, ntree_limit=model.best_ntree_limit)\n",
        "score = mean_squared_error(y_val, va_pred)\n",
        "print(score)\n",
        "\n",
        "pred = model.predict(dtest, ntree_limit=model.best_ntree_limit)\n",
        "#print(np.sum((pred>=0.5)==(y_test))/len(y_test))"
      ],
      "id": "knowing-target",
      "execution_count": null,
      "outputs": [
        {
          "output_type": "stream",
          "text": [
            "[0]\ttrain-rmse:71.00267\teval-rmse:71.06568\n",
            "[1]\ttrain-rmse:49.72673\teval-rmse:49.76869\n",
            "[2]\ttrain-rmse:34.83942\teval-rmse:34.86709\n",
            "[3]\ttrain-rmse:24.42614\teval-rmse:24.44291\n",
            "[4]\ttrain-rmse:17.14610\teval-rmse:17.15667\n",
            "[5]\ttrain-rmse:12.06550\teval-rmse:12.07131\n",
            "[6]\ttrain-rmse:8.53001\teval-rmse:8.53262\n",
            "[7]\ttrain-rmse:6.08229\teval-rmse:6.08337\n",
            "[8]\ttrain-rmse:4.40771\teval-rmse:4.40708\n",
            "[9]\ttrain-rmse:3.28432\teval-rmse:3.28440\n",
            "[10]\ttrain-rmse:2.55361\teval-rmse:2.55425\n",
            "[11]\ttrain-rmse:2.09697\teval-rmse:2.09862\n",
            "[12]\ttrain-rmse:1.82806\teval-rmse:1.83136\n",
            "[13]\ttrain-rmse:1.67206\teval-rmse:1.67717\n",
            "[14]\ttrain-rmse:1.58305\teval-rmse:1.59006\n",
            "[15]\ttrain-rmse:1.53308\teval-rmse:1.54125\n",
            "[16]\ttrain-rmse:1.49421\teval-rmse:1.50405\n",
            "[17]\ttrain-rmse:1.47667\teval-rmse:1.48791\n",
            "[18]\ttrain-rmse:1.46467\teval-rmse:1.47742\n",
            "[19]\ttrain-rmse:1.45426\teval-rmse:1.46727\n",
            "[20]\ttrain-rmse:1.44670\teval-rmse:1.46189\n",
            "[21]\ttrain-rmse:1.44010\teval-rmse:1.45631\n",
            "[22]\ttrain-rmse:1.42679\teval-rmse:1.44271\n",
            "[23]\ttrain-rmse:1.42321\teval-rmse:1.44005\n",
            "[24]\ttrain-rmse:1.42010\teval-rmse:1.43852\n",
            "[25]\ttrain-rmse:1.41684\teval-rmse:1.43635\n",
            "[26]\ttrain-rmse:1.40959\teval-rmse:1.42937\n",
            "[27]\ttrain-rmse:1.40137\teval-rmse:1.42168\n",
            "[28]\ttrain-rmse:1.39767\teval-rmse:1.41907\n",
            "[29]\ttrain-rmse:1.39430\teval-rmse:1.41597\n",
            "[30]\ttrain-rmse:1.39265\teval-rmse:1.41561\n",
            "[31]\ttrain-rmse:1.38920\teval-rmse:1.41335\n",
            "[32]\ttrain-rmse:1.38683\teval-rmse:1.41305\n",
            "[33]\ttrain-rmse:1.38473\teval-rmse:1.41219\n",
            "[34]\ttrain-rmse:1.38057\teval-rmse:1.40878\n",
            "[35]\ttrain-rmse:1.37685\teval-rmse:1.40614\n",
            "[36]\ttrain-rmse:1.37422\teval-rmse:1.40407\n",
            "[37]\ttrain-rmse:1.37335\teval-rmse:1.40434\n",
            "[38]\ttrain-rmse:1.37139\teval-rmse:1.40377\n",
            "[39]\ttrain-rmse:1.36923\teval-rmse:1.40266\n",
            "[40]\ttrain-rmse:1.36843\teval-rmse:1.40250\n",
            "[41]\ttrain-rmse:1.36613\teval-rmse:1.40109\n",
            "[42]\ttrain-rmse:1.36511\teval-rmse:1.40057\n",
            "[43]\ttrain-rmse:1.36415\teval-rmse:1.40053\n",
            "[44]\ttrain-rmse:1.36300\teval-rmse:1.40035\n",
            "[45]\ttrain-rmse:1.36028\teval-rmse:1.39828\n",
            "[46]\ttrain-rmse:1.35766\teval-rmse:1.39641\n",
            "[47]\ttrain-rmse:1.35598\teval-rmse:1.39504\n",
            "[48]\ttrain-rmse:1.35480\teval-rmse:1.39479\n",
            "[49]\ttrain-rmse:1.35445\teval-rmse:1.39477\n",
            "[50]\ttrain-rmse:1.35350\teval-rmse:1.39435\n",
            "[51]\ttrain-rmse:1.35243\teval-rmse:1.39452\n",
            "[52]\ttrain-rmse:1.35189\teval-rmse:1.39423\n",
            "[53]\ttrain-rmse:1.35032\teval-rmse:1.39359\n",
            "[54]\ttrain-rmse:1.34914\teval-rmse:1.39259\n",
            "[55]\ttrain-rmse:1.34599\teval-rmse:1.39143\n",
            "[56]\ttrain-rmse:1.34477\teval-rmse:1.39121\n",
            "[57]\ttrain-rmse:1.34334\teval-rmse:1.39038\n",
            "[58]\ttrain-rmse:1.34085\teval-rmse:1.38822\n",
            "[59]\ttrain-rmse:1.33996\teval-rmse:1.38830\n",
            "[60]\ttrain-rmse:1.33934\teval-rmse:1.38813\n",
            "[61]\ttrain-rmse:1.33790\teval-rmse:1.38778\n",
            "[62]\ttrain-rmse:1.33425\teval-rmse:1.38452\n",
            "[63]\ttrain-rmse:1.33219\teval-rmse:1.38359\n",
            "[64]\ttrain-rmse:1.33007\teval-rmse:1.38192\n",
            "[65]\ttrain-rmse:1.32942\teval-rmse:1.38195\n",
            "[66]\ttrain-rmse:1.32769\teval-rmse:1.38163\n",
            "[67]\ttrain-rmse:1.32758\teval-rmse:1.38170\n",
            "[68]\ttrain-rmse:1.32693\teval-rmse:1.38141\n",
            "[69]\ttrain-rmse:1.32620\teval-rmse:1.38122\n",
            "[70]\ttrain-rmse:1.32591\teval-rmse:1.38110\n",
            "[71]\ttrain-rmse:1.32468\teval-rmse:1.38037\n",
            "[72]\ttrain-rmse:1.32183\teval-rmse:1.38168\n",
            "[73]\ttrain-rmse:1.32157\teval-rmse:1.38169\n",
            "[74]\ttrain-rmse:1.32079\teval-rmse:1.38188\n",
            "[75]\ttrain-rmse:1.31911\teval-rmse:1.38108\n",
            "[76]\ttrain-rmse:1.31682\teval-rmse:1.37929\n",
            "[77]\ttrain-rmse:1.31612\teval-rmse:1.37898\n",
            "[78]\ttrain-rmse:1.31567\teval-rmse:1.37917\n",
            "[79]\ttrain-rmse:1.31562\teval-rmse:1.37921\n",
            "[80]\ttrain-rmse:1.31468\teval-rmse:1.37887\n",
            "[81]\ttrain-rmse:1.31367\teval-rmse:1.37837\n",
            "[82]\ttrain-rmse:1.31194\teval-rmse:1.37858\n",
            "[83]\ttrain-rmse:1.31081\teval-rmse:1.37820\n",
            "[84]\ttrain-rmse:1.30964\teval-rmse:1.37803\n",
            "[85]\ttrain-rmse:1.30802\teval-rmse:1.37796\n",
            "[86]\ttrain-rmse:1.30616\teval-rmse:1.37664\n",
            "[87]\ttrain-rmse:1.30540\teval-rmse:1.37660\n",
            "[88]\ttrain-rmse:1.30366\teval-rmse:1.37709\n",
            "[89]\ttrain-rmse:1.30293\teval-rmse:1.37682\n",
            "[90]\ttrain-rmse:1.30104\teval-rmse:1.37555\n",
            "[91]\ttrain-rmse:1.30015\teval-rmse:1.37578\n",
            "[92]\ttrain-rmse:1.29926\teval-rmse:1.37586\n",
            "[93]\ttrain-rmse:1.29863\teval-rmse:1.37580\n",
            "[94]\ttrain-rmse:1.29804\teval-rmse:1.37557\n",
            "[95]\ttrain-rmse:1.29606\teval-rmse:1.37554\n",
            "[96]\ttrain-rmse:1.29580\teval-rmse:1.37554\n",
            "[97]\ttrain-rmse:1.29527\teval-rmse:1.37569\n",
            "[98]\ttrain-rmse:1.29482\teval-rmse:1.37569\n",
            "[99]\ttrain-rmse:1.29465\teval-rmse:1.37572\n",
            "1.8921146987342956\n"
          ],
          "name": "stdout"
        }
      ]
    },
    {
      "cell_type": "code",
      "metadata": {
        "id": "great-mapping",
        "outputId": "680a4f90-6b55-4d68-bfd1-c18a2fa2cfbc"
      },
      "source": [
        "plt.scatter(y_train, model.predict(dtrain, ntree_limit=model.best_ntree_limit))\n",
        "plt.plot(y_train, y_train, \"red\")"
      ],
      "id": "great-mapping",
      "execution_count": null,
      "outputs": [
        {
          "output_type": "execute_result",
          "data": {
            "text/plain": [
              "[<matplotlib.lines.Line2D at 0x24570b4f880>]"
            ]
          },
          "metadata": {
            "tags": []
          },
          "execution_count": 252
        },
        {
          "output_type": "display_data",
          "data": {
            "image/png": "[encoded data removed]",
            "text/plain": [
              "<Figure size 432x288 with 1 Axes>"
            ]
          },
          "metadata": {
            "tags": [],
            "needs_background": "light"
          }
        }
      ]
    },
    {
      "cell_type": "code",
      "metadata": {
        "id": "sized-mills",
        "outputId": "d2d43740-491d-444d-80ec-5c5c3fab1be0"
      },
      "source": [
        "plt.scatter(y_test, pred)\n",
        "plt.plot(y_test, y_test, \"red\")"
      ],
      "id": "sized-mills",
      "execution_count": null,
      "outputs": [
        {
          "output_type": "execute_result",
          "data": {
            "text/plain": [
              "[<matplotlib.lines.Line2D at 0x2456ef76fd0>]"
            ]
          },
          "metadata": {
            "tags": []
          },
          "execution_count": 253
        },
        {
          "output_type": "display_data",
          "data": {
            "image/png": "[encoded data removed]",
            "text/plain": [
              "<Figure size 432x288 with 1 Axes>"
            ]
          },
          "metadata": {
            "tags": [],
            "needs_background": "light"
          }
        }
      ]
    },
    {
      "cell_type": "code",
      "metadata": {
        "id": "willing-iceland",
        "outputId": "a9c4499e-e96f-41f0-dc03-59ed5667b144"
      },
      "source": [
        "fig = plt.figure(figsize=(8, 8))\n",
        "ax = plt.subplot(111)\n",
        "\n",
        "xgb.plot_importance(model, ax=ax);"
      ],
      "id": "willing-iceland",
      "execution_count": null,
      "outputs": [
        {
          "output_type": "display_data",
          "data": {
            "image/png": "[encoded data removed]",
            "text/plain": [
              "<Figure size 576x576 with 1 Axes>"
            ]
          },
          "metadata": {
            "tags": [],
            "needs_background": "light"
          }
        }
      ]
    },
    {
      "cell_type": "code",
      "metadata": {
        "id": "emerging-webmaster",
        "outputId": "4a8baa6a-51d9-4b7e-a94e-602192212392"
      },
      "source": [
        "print(mean_squared_error(y_train, model.predict(dtrain, ntree_limit=model.best_ntree_limit)))\n",
        "print(mean_squared_error(y_test, model.predict(dtest, ntree_limit=model.best_ntree_limit)))"
      ],
      "id": "emerging-webmaster",
      "execution_count": null,
      "outputs": [
        {
          "output_type": "stream",
          "text": [
            "1.679106960498608\n",
            "2.6047485541940616\n"
          ],
          "name": "stdout"
        }
      ]
    }
  ]
}